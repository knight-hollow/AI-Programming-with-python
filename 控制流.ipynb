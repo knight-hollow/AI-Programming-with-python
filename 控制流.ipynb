{
 "cells": [
  {
   "cell_type": "markdown",
   "id": "f29e2428",
   "metadata": {},
   "source": [
    "# Python for AI programmers\n",
    "## Python基础\n",
    "### 控制流"
   ]
  },
  {
   "cell_type": "markdown",
   "id": "2a868882",
   "metadata": {},
   "source": [
    "#### 判断语句\n",
    "if 判断   \n",
    "基本格式    \n",
    "if 要判断的条件：   \n",
    "  执行的语句   \n",
    "\n",
    "逻辑运算符   \n",
    "and 左右两边都符合为真   \n",
    "or  左右有一边符合为真   \n",
    "not 表示相反的结果   "
   ]
  },
  {
   "cell_type": "code",
   "execution_count": 2,
   "id": "7febac48",
   "metadata": {},
   "outputs": [
    {
     "name": "stdout",
     "output_type": "stream",
     "text": [
      "你真棒\n"
     ]
    }
   ],
   "source": [
    "grade = input(\"请输入成绩\")\n",
    "if grade == '100':\n",
    "    print(\"你真棒\")\n",
    "if grade == '60':\n",
    "    print(\"加油\")"
   ]
  },
  {
   "cell_type": "markdown",
   "id": "18cc7dcc",
   "metadata": {},
   "source": [
    "if-else  \n",
    "基本格式  \n",
    "if 条件:  \n",
    "  满足条件要执行的语句   \n",
    "else:  \n",
    "  不满足条件要执行的语句  "
   ]
  },
  {
   "cell_type": "code",
   "execution_count": 3,
   "id": "3607b21b",
   "metadata": {},
   "outputs": [
    {
     "name": "stdout",
     "output_type": "stream",
     "text": [
      "a小于等于b\n",
      "a小于等于b\n"
     ]
    }
   ],
   "source": [
    "a = 5\n",
    "b = 8\n",
    "if a > b:\n",
    "    print(\"a大于b\")\n",
    "else:\n",
    "    print(\"a小于等于b\")\n",
    "\n",
    "#等价于三目运算\n",
    "#基本格式 条件为真执行语句 if 条件 else 条件为假执行语句\n",
    "print(\"a大于b\") if a > b else print(\"a小于等于b\")"
   ]
  },
  {
   "cell_type": "markdown",
   "id": "78d29024",
   "metadata": {},
   "source": [
    "if-elif   \n",
    "if-else 二选一 if-elif 多选一   \n",
    "if 条件1:   \n",
    " 满足条件1执行语句   \n",
    "elif 条件2:   \n",
    " 满足条件2执行语句   \n",
    "elif 条件3:  \n",
    " 满足条件3执行语句   \n",
    "else   \n",
    " 条件均不满足时执行语句   \n",
    "\n",
    "\n",
    "if嵌套  \n",
    "基本格式  \n",
    "if 条件1:  \n",
    "  事情1  \n",
    "  if 条件2：  \n",
    "     事情2  \n",
    "注意：内层if判断和外层if判断都可以是if-else结构  "
   ]
  },
  {
   "cell_type": "code",
   "execution_count": 4,
   "id": "a99e13a7",
   "metadata": {},
   "outputs": [
    {
     "name": "stdout",
     "output_type": "stream",
     "text": [
      "进站\n",
      "无发热\n"
     ]
    }
   ],
   "source": [
    "ticket = True\n",
    "temp =36.5\n",
    "if ticket == True:\n",
    "    print(\"进站\")\n",
    "    if 36.3<=temp<=37.2:\n",
    "        print(\"无发热\")\n",
    "    else:\n",
    "        print(\"隔离\")\n",
    "else:\n",
    "    print(\"不能进站\")"
   ]
  },
  {
   "cell_type": "markdown",
   "id": "fe81c39a",
   "metadata": {},
   "source": [
    "#### 循环语句\n",
    "while 循环   \n",
    "定义初始变量   \n",
    "while条件：   \n",
    "   循环体  \n",
    "   改变变量   \n",
    "\n",
    "while循环嵌套   \n",
    "一个while循环里面还有一个while循环   \n",
    "while 条件1:   \n",
    "     循环体1   \n",
    "     while 条件2:  \n",
    "           循环体2  \n",
    "           改变变量  \n",
    "     改变变量  "
   ]
  },
  {
   "cell_type": "code",
   "execution_count": 6,
   "id": "0d18d477",
   "metadata": {},
   "outputs": [
    {
     "name": "stdout",
     "output_type": "stream",
     "text": [
      "哈哈\n",
      "哈哈\n",
      "哈哈\n",
      "哈哈\n",
      "哈哈\n",
      "计算结果： 5050\n",
      "这是第1次外循环\n",
      "这是第1次内循环\n",
      "这是第2次内循环\n",
      "这是第3次内循环\n",
      "这是第4次内循环\n",
      "这是第5次内循环\n",
      "这是第2次外循环\n",
      "这是第1次内循环\n",
      "这是第2次内循环\n",
      "这是第3次内循环\n",
      "这是第4次内循环\n",
      "这是第5次内循环\n",
      "这是第3次外循环\n",
      "这是第1次内循环\n",
      "这是第2次内循环\n",
      "这是第3次内循环\n",
      "这是第4次内循环\n",
      "这是第5次内循环\n"
     ]
    }
   ],
   "source": [
    "i = 1\n",
    "while i <= 5:\n",
    "    print(\"哈哈\")\n",
    "    i += 1#没有i++\n",
    "\n",
    "#死循环\n",
    "#while True\n",
    "#      循环体\n",
    "\n",
    "i = 1\n",
    "b = 0\n",
    "while i <= 100:\n",
    "    b += i\n",
    "    i += 1\n",
    "print(\"计算结果：\",b)\n",
    "\n",
    "i = 1\n",
    "while i <= 3:\n",
    "    print(f\"这是第{i}次外循环\")\n",
    "    j = 1\n",
    "    while j <= 5:\n",
    "        print(f\"这是第{j}次内循环\")\n",
    "        j += 1\n",
    "    i += 1"
   ]
  },
  {
   "cell_type": "markdown",
   "id": "a3904701",
   "metadata": {},
   "source": [
    "for循环  \n",
    "for 临时变量 in 可迭代对象  \n",
    "  循环体  \n",
    "\n",
    "range()  \n",
    "用来记录循环次数，相当于一个计数器  \n",
    "range(start,stop,step)  "
   ]
  },
  {
   "cell_type": "code",
   "execution_count": 7,
   "id": "f5539680",
   "metadata": {},
   "outputs": [
    {
     "name": "stdout",
     "output_type": "stream",
     "text": [
      "h\n",
      "e\n",
      "l\n",
      "l\n",
      "o\n",
      " \n",
      "w\n",
      "o\n",
      "r\n",
      "l\n",
      "d\n",
      "1\n",
      "2\n",
      "3\n",
      "4\n",
      "5\n",
      "0\n",
      "1\n",
      "2\n",
      "3\n",
      "4\n",
      "5050\n"
     ]
    }
   ],
   "source": [
    "str = 'hello world'\n",
    "for i in str:\n",
    "    print(i)\n",
    "\n",
    "for i in range(1,6):#从1开始到6-1结束，遵循包前不包后原则\n",
    "    print(i)\n",
    "for i in range(5):# 默认从0开始，\n",
    "    print(i)\n",
    "\n",
    "b = 0\n",
    "for i in range(1,101):\n",
    "    b = b + i\n",
    "print(b)"
   ]
  },
  {
   "cell_type": "code",
   "execution_count": 8,
   "id": "2ebf31e6",
   "metadata": {},
   "outputs": [
    {
     "name": "stdout",
     "output_type": "stream",
     "text": [
      "haha\n",
      "haha\n",
      "haha\n",
      "stop\n",
      "haha1\n",
      "haha2\n",
      "stop3\n",
      "haha4\n",
      "haha5\n"
     ]
    }
   ],
   "source": [
    "# break和continue\n",
    "#break中途退出结束循环\n",
    "#continue结束当前循环进入下一次循环\n",
    "i = 1\n",
    "while i<=5:\n",
    "    print(\"haha\")\n",
    "    if i==3:\n",
    "        print(\"stop\")\n",
    "        break\n",
    "    i += 1\n",
    "i = 1\n",
    "while i<=5:\n",
    "    if i==3:\n",
    "        print(f\"stop{i}\")\n",
    "        i += 1\n",
    "        continue#continue 之前一定要修改计数器，否则会陷入死循环\n",
    "    print(f\"haha{i}\")\n",
    "    i += 1"
   ]
  },
  {
   "cell_type": "code",
   "execution_count": null,
   "id": "82c5d167",
   "metadata": {},
   "outputs": [],
   "source": [
    "check_prime = [26,39,51,53,57,79,85]\n",
    "for number in check_prime:\n",
    "    for i in range(2,number):\n",
    "        if number % i == 0:\n",
    "            print('{} is NOT a prime number, because {} is a factor of {}'.format(number,i,number))\n",
    "            break\n",
    "        if i == number - 1:\n",
    "            print('{} IS a prime number'.format(number))"
   ]
  },
  {
   "cell_type": "markdown",
   "id": "b8c78642",
   "metadata": {},
   "source": [
    "zip(): 把多个可迭代对象“打包”在一起，生成元组对。  \n",
    "enumerate():在遍历可迭代对象时，同时得到索引(index) 和元素(value)。  "
   ]
  },
  {
   "cell_type": "code",
   "execution_count": 10,
   "id": "d75749f9",
   "metadata": {},
   "outputs": [
    {
     "name": "stdout",
     "output_type": "stream",
     "text": [
      "a: 1\n",
      "b: 2\n",
      "c: 3\n",
      "0 a\n",
      "1 b\n",
      "2 c\n",
      "3 d\n",
      "4 e\n"
     ]
    }
   ],
   "source": [
    "letters = ['a', 'b', 'c']\n",
    "nums = [1, 2, 3]\n",
    "\n",
    "for letter, num in zip(letters, nums):\n",
    "    print(\"{}: {}\".format(letter, num))\n",
    "\n",
    "\n",
    "letters = ['a', 'b', 'c', 'd', 'e']\n",
    "for i, letter in enumerate(letters):\n",
    "    print(i, letter)"
   ]
  },
  {
   "cell_type": "markdown",
   "id": "dbb150fa",
   "metadata": {},
   "source": [
    "列表推导式  \n",
    "格式一: [表达式 for 变量 in 列表]  \n",
    "in 后面不仅可以放列表，还可以放range（），可迭代对象  \n",
    "格式二：[表达式 for 变量 in 列表 if 条件]  "
   ]
  },
  {
   "cell_type": "code",
   "execution_count": 11,
   "id": "1fcd8170",
   "metadata": {},
   "outputs": [
    {
     "name": "stdout",
     "output_type": "stream",
     "text": [
      "1\n",
      "2\n",
      "3\n",
      "4\n",
      "5\n",
      "6\n",
      "[1, 2, 3, 4, 5]\n",
      "[1, 2, 3, 4, 5]\n",
      "[1, 3, 5, 7, 9]\n",
      "[1, 3, 5, 7, 9]\n"
     ]
    }
   ],
   "source": [
    "ss = [1,2,3,4,5,6]\n",
    "[print(i) for i in ss]\n",
    "aa = []\n",
    "for i in range(1,6):\n",
    "    aa.append(i)\n",
    "print(aa)\n",
    "bb = []\n",
    "[bb.append(i) for i in range(1,6)]\n",
    "print(bb)\n",
    "\n",
    "aa = []\n",
    "for i in range(1,11):\n",
    "    if(i % 2 == 1):\n",
    "        aa.append(i)\n",
    "print(aa)\n",
    "\n",
    "bb = []\n",
    "[bb.append(i) for i in range(1,11) if i % 2 == 1]\n",
    "print(bb)"
   ]
  },
  {
   "cell_type": "markdown",
   "id": "fc180c29",
   "metadata": {},
   "source": []
  }
 ],
 "metadata": {
  "kernelspec": {
   "display_name": "base",
   "language": "python",
   "name": "python3"
  },
  "language_info": {
   "codemirror_mode": {
    "name": "ipython",
    "version": 3
   },
   "file_extension": ".py",
   "mimetype": "text/x-python",
   "name": "python",
   "nbconvert_exporter": "python",
   "pygments_lexer": "ipython3",
   "version": "3.12.2"
  }
 },
 "nbformat": 4,
 "nbformat_minor": 5
}
