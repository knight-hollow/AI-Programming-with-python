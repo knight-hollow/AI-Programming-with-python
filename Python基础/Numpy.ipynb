{
 "cells": [
  {
   "cell_type": "markdown",
   "id": "1afcf960",
   "metadata": {},
   "source": [
    "## NumPy\n",
    "尽管 Python 的列表本身已经非常强大，但 NumPy 具备许多关键特性，使其相比 Python 列表具有显著优势。下面是几个非常有说服力的特性：  \n",
    "\n",
    "### 首先是速度。\n",
    "当对大型数组执行操作时，NumPy 往往能够比 Python 列表快上几个数量级。这种速度优势来源于 NumPy 数组的 内存高效性，以及 NumPy 在执行算术运算、统计运算和线性代数运算时所使用的 高度优化的算法。\n",
    "\n",
    "### 另一个重要特性是多维数组的数据结构。\n",
    "NumPy 提供了能够表示 向量和矩阵 的多维数组。你将在本课程的线性代数部分学习到关于向量和矩阵的知识，并很快会看到，许多机器学习算法都依赖矩阵运算。例如，在训练神经网络时，通常需要执行大量的矩阵乘法。NumPy 针对矩阵运算做了优化，它让我们能够 高效、有效地进行线性代数运算，因此非常适合用于解决机器学习问题。\n",
    "\n",
    "### NumPy 相较于 Python 列表的另一个巨大优势在于它提供了大量优化过的内置数学函数。\n",
    "这些函数允许你非常快速地完成各种复杂的数学计算，并且只需极少的代码（避免使用复杂的循环），从而让你的程序更加 简洁、可读、易于理解。  \n",
    "\n",
    "官方[NumPy使用手册](https://numpy.org/doc/stable/user/index.html)"
   ]
  },
  {
   "cell_type": "code",
   "execution_count": 3,
   "id": "fec78686",
   "metadata": {},
   "outputs": [
    {
     "name": "stdout",
     "output_type": "stream",
     "text": [
      "[1 2 3]\n",
      "(3,)\n",
      "b =  [[1 2 3]\n",
      " [4 5 6]]\n",
      "b has dimensions: (2, 3)\n",
      "b is an object of type: <class 'numpy.ndarray'>\n",
      "The elements in b are of type: int64\n"
     ]
    }
   ],
   "source": [
    "import numpy as np\n",
    "\n",
    "# 一维数组\n",
    "a = np.array([1, 2, 3])\n",
    "print(a)          # [1 2 3]\n",
    "print(a.shape)    # (3,)\n",
    "\n",
    "# 二维数组\n",
    "b = np.array([[1, 2, 3], [4, 5, 6]])\n",
    "print('b = ', b)\n",
    "print('b has dimensions:', b.shape)\n",
    "print('b is an object of type:', type(b))\n",
    "print('The elements in b are of type:', b.dtype)"
   ]
  },
  {
   "cell_type": "code",
   "execution_count": 4,
   "id": "ed0c70e9",
   "metadata": {},
   "outputs": [
    {
     "name": "stdout",
     "output_type": "stream",
     "text": [
      "2\n",
      "[2 5 8]\n",
      "[[1 2 3]\n",
      " [4 5 6]]\n"
     ]
    }
   ],
   "source": [
    "c = np.array([[1,2,3],[4,5,6],[7,8,9]])\n",
    "print(c[0,1])      # 2 (第一行第二列)\n",
    "print(c[:,1])      # [2 5 8] (第二列)\n",
    "print(c[0:2, :])   # 前两行"
   ]
  },
  {
   "cell_type": "markdown",
   "id": "30c8906f",
   "metadata": {},
   "source": [
    "np.zeros((2,3))       # 2x3 全零数组.  \n",
    "np.ones((3,3))        # 3x3 全一数组.  \n",
    "np.eye(3)             # 3x3 单位矩阵.  \n",
    "np.arange(0,10,2)     # [0 2 4 6 8].  \n",
    "np.linspace(0,1,5)    # 等间隔 [0.   0.25 0.5 0.75 1.]   \n",
    "np.full((2,3), 5)     # 2x3 全5数组  \n",
    "np.diag([10,20,30,50])#对角矩阵  \n",
    "np.reshape(array, newshape, order='C')[source] # 改变数组形状 的方法，但不会改变数组的数据内容    \n",
    "np.random.random(shape) # 生成[0,1)区间均匀分布的随机浮点数。  \n",
    "np.random.randint(start, stop, size = shape) #生成指定范围内的随机整数。  \n",
    "np.random.normal(mean, standard deviation, size=shape) #用来生成 服从正态分布 (高斯分布) 的随机数。  \n",
    "np.delete(arr, obj, axis=None) #删除数组中的元素.  \n",
    "np.append(array, values, axis=None) #向数组末尾追加值，返回新数组（不会在原数组上修改）。  \n",
    "np.insert(ndarray, index, elements, axis) #在指定位置插入元素，支持 1D 和多维数组操作。多维数组先展平   \n",
    "np.hstack(sequence_of_ndarray) #水平方向（列方向，axis=1）拼接数组.  \n",
    "np.vstack(sequence_of_ndarray) #垂直方向（行方向，axis=0）拼接数组。 \n",
    "np.copy() #创建一个 数组的副本（copy）。返回的新数组和原数组 数据相同，但内存地址不同。  \n",
    "numpy.unique(ar, return_index=False, return_inverse=False, return_counts=False, axis=None). #找出数组中的 唯一值（去重），并且可以选择返回：排序后的唯一值,唯一值对应的索引,唯一值的出现次数  \n",
    "np.intersect1d(x,y) #x,y的交集  \n",
    "np.setdiff1d(x,y) #x中有y中没有的元素  \n",
    "np.union1d(x,y) #x，y的并集  \n",
    "ndarray.sort(axis=-1, kind=None, order=None) #排序。\n"
   ]
  },
  {
   "cell_type": "code",
   "execution_count": 6,
   "id": "616f8cdf",
   "metadata": {},
   "outputs": [
    {
     "name": "stdout",
     "output_type": "stream",
     "text": [
      "[5 7 9]\n",
      "[-3 -3 -3]\n",
      "[ 4 10 18]\n",
      "[0.25 0.4  0.5 ]\n",
      "[1 4 9]\n",
      "[1.         1.41421356 1.73205081]\n",
      "[ 2.71828183  7.3890561  20.08553692]\n",
      "[1 4 9]\n",
      "32\n",
      "6\n",
      "2.0\n",
      "0.816496580927726\n",
      "3\n",
      "1\n",
      "2\n",
      "0\n"
     ]
    }
   ],
   "source": [
    "a = np.array([1, 2, 3])\n",
    "b = np.array([4, 5, 6])\n",
    "\n",
    "print(a + b)   # [5 7 9]   (逐元素相加)\n",
    "print(a - b)   # [-3 -3 -3] (逐元素相减)\n",
    "print(a * b)   # [ 4 10 18] (逐元素相乘)\n",
    "print(a / b)   # [0.25 0.4  0.5] (逐元素相除)\n",
    "print(a ** 2)  # [1 4 9]   (平方)\n",
    "print(np.sqrt(a)) # [1.         1.41421356 1.73205081] (平方根)\n",
    "print(np.exp(a)) # [ 2.71828183  7.3890561  20.08553692] (指数)\n",
    "print(np.power(a,2)) # [1 4 9] (幂)\n",
    "print(np.dot(a, b)) # 32 (点积)\n",
    "print(np.sum(a))    # 6 (求和)\n",
    "print(np.mean(a))   # 2.0 (均值)\n",
    "print(np.std(a))    # 0.816496580927726 (标准差)\n",
    "print(np.max(a))    # 3 (最大值)\n",
    "print(np.min(a))    # 1 (最小值)    \n",
    "print(np.argmax(a)) # 2 (最大值索引)\n",
    "print(np.argmin(a)) # 0 (最小值索引)"
   ]
  },
  {
   "cell_type": "markdown",
   "id": "9f56ab84",
   "metadata": {},
   "source": [
    "当两个数组形状 (shape) 不同时，NumPy 会尝试 自动扩展 较小的数组，使它们兼容后再运算。\n",
    "\n",
    "广播规则.  \n",
    "- 如果维度不同，自动在前面补 1。\n",
    "- 如果某个维度大小不同，但其中一个是 1，则扩展为另一个的大小。\n",
    "- 如果某个维度大小不同，且都不为 1，则报错。"
   ]
  },
  {
   "cell_type": "code",
   "execution_count": null,
   "id": "908b6449",
   "metadata": {},
   "outputs": [],
   "source": []
  }
 ],
 "metadata": {
  "kernelspec": {
   "display_name": "base",
   "language": "python",
   "name": "python3"
  },
  "language_info": {
   "codemirror_mode": {
    "name": "ipython",
    "version": 3
   },
   "file_extension": ".py",
   "mimetype": "text/x-python",
   "name": "python",
   "nbconvert_exporter": "python",
   "pygments_lexer": "ipython3",
   "version": "3.12.2"
  }
 },
 "nbformat": 4,
 "nbformat_minor": 5
}
