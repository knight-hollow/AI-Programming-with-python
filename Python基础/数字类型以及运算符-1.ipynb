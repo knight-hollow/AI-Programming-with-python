{
 "cells": [
  {
   "cell_type": "markdown",
   "id": "afc42f73",
   "metadata": {},
   "source": [
    "# Python for AI programmers\n",
    "## Python基础\n",
    "### 数据类型和操作符\n",
    "变量：计算机中的存储空间，用于保存数据  \n",
    "格式：变量名 = 值  \n",
    "\n",
    "int 整型：任意大小的整数。 \n",
    "检测数据类型的方法type()  \n",
    "float 浮点数：小数  \n",
    "bool 布尔型：一个为True（真），一个为False。（True和False必须严格区分大小写，bool可以当做整型对待，True相当于整数1，False相当于整数0）  \n",
    "complex 复数型：实部加虚部a+bj，其中j是虚数单位  \n",
    "字符串str：特点：需要加上引号，但引号双引号都行，包含多行内容时也可以是三引号  \n",
    "\n",
    "算数运算符 + - * /  \n",
    "使用算数运算符除号，结果一定是浮点型，且除数不能为0  \n",
    "// 取整除，取商的整数部分向下取整  \n",
    "%  取余数  \n",
    "** 取幂  \n",
    "算数运算符若有浮点数，结果也是浮点数  \n",
    "优先级：幂>乘除>加减  \n",
    "\n",
    "= 赋值运算符：给变量赋值，将一个变量的值赋给另外一个变量/将运算的值赋给变量。 \n",
    "a+=1 等价于a=a+1  a-=1 等价于a=a-1  \n",
    "赋值运算符必须连着写，中间不能有空格  \n",
    "\n",
    "逻辑运算符  \n",
    "== 等于  \n",
    "!= 不等于  \n",
    "\\> < >= <=  "
   ]
  },
  {
   "cell_type": "markdown",
   "id": "fff92081",
   "metadata": {},
   "source": [
    "## Quiz 1: Evaluating Model Performance\n",
    "### Scenario:\n",
    "You are working on a project where you need to analyze the average prediction accuracy of a machine learning model over the last three months. The accuracy scores for the last three months are 85.5%, 90.2%, and 87.3%.\n",
    "\n",
    "### Task:\n",
    "Write an expression to calculate the mean prediction accuracy over these three months."
   ]
  },
  {
   "cell_type": "code",
   "execution_count": 6,
   "id": "5cfc4b45",
   "metadata": {},
   "outputs": [
    {
     "name": "stdout",
     "output_type": "stream",
     "text": [
      "The average prediction accuracy over the last three months is 87.67%\n"
     ]
    }
   ],
   "source": [
    "# Accuracy scores for the last three months\n",
    "accuracy_scores = [85.5, 90.2, 87.3]\n",
    "\n",
    "# Calculate the average accuracy\n",
    "average_accuracy = sum(accuracy_scores) / len(accuracy_scores) #replace `None` with your code\n",
    "\n",
    "print(f\"The average prediction accuracy over the last three months is {average_accuracy:.2f}%\")"
   ]
  },
  {
   "cell_type": "markdown",
   "id": "56da421b",
   "metadata": {},
   "source": [
    "## Quiz 2: Managing Data Storage for Machine Learning Projects\n",
    "### Scenario:\n",
    "You are optimizing the data storage for a machine learning project. You have two datasets of image files for training. One dataset contains 4000 images, and the other contains 3000 images. Each image is 256KB in size. Additionally, you receive a new storage device with 2048MB capacity.\n",
    "\n",
    "### Tasks:\n",
    "\n",
    "1. Calculate the total storage needed for both datasets in MB.\n",
    "2. Determine how much storage will be left after storing all images on the new device in MB."
   ]
  },
  {
   "cell_type": "code",
   "execution_count": 7,
   "id": "e1d57fa4",
   "metadata": {},
   "outputs": [
    {
     "name": "stdout",
     "output_type": "stream",
     "text": [
      "Total storage needed: 1750.00 MB\n",
      "Storage left after storing all images: 298.00 MB\n"
     ]
    }
   ],
   "source": [
    "# Sizes of datasets (in images)\n",
    "dataset1_size = 4000\n",
    "dataset2_size = 3000\n",
    "\n",
    "# Size of each image in KB\n",
    "image_size_kb = 256\n",
    "\n",
    "# Calculate total storage needed (in KB)\n",
    "total_storage_kb = (dataset1_size + dataset2_size)*image_size_kb #replace `None` with your code\n",
    "\n",
    "# Convert total storage needed to MB\n",
    "total_storage_mb = total_storage_kb / 1024\n",
    "print(f\"Total storage needed: {total_storage_mb:.2f} MB\")\n",
    "\n",
    "# Storage device capacity (in MB)\n",
    "device_capacity_mb = 2048\n",
    "\n",
    "# Calculate leftover storage in MB\n",
    "leftover_storage_mb = device_capacity_mb - total_storage_mb #replace `None` with your code\n",
    "print(f\"Storage left after storing all images: {leftover_storage_mb:.2f} MB\")"
   ]
  },
  {
   "cell_type": "markdown",
   "id": "b5e041e2",
   "metadata": {},
   "source": [
    "## Quiz 3: Adjusting AI Model Parameters\n",
    "### Scenario:\n",
    "You are working with an AI model and need to adjust various parameters and metrics during the training process. Use the assignment operators to modify these values based on the given instructions.\n",
    "\n",
    "### Task:\n",
    "Follow the instructions in the comments to modify the variables. After each comment, write a line of code that implements the instruction."
   ]
  },
  {
   "cell_type": "code",
   "execution_count": 8,
   "id": "34a2746a",
   "metadata": {},
   "outputs": [
    {
     "name": "stdout",
     "output_type": "stream",
     "text": [
      "Nice job! You can use the multiplication assignment operator like this: learning_rate *= 0.9\n"
     ]
    }
   ],
   "source": [
    "# The initial learning rate for the model\n",
    "learning_rate = 0.01\n",
    "# The initial training loss of the model\n",
    "training_loss = 0.8\n",
    "\n",
    "# Use the multiplication assignment operator to decrease \n",
    "# the learning_rate variable by 10% to account for better stability\n",
    "learning_rate *= 0.9# TODO\n",
    "\n",
    "### Notebook grading\n",
    "if learning_rate == 0.01 * 0.9:\n",
    "    print(\"Nice job! You can use the multiplication assignment operator like this: learning_rate *= 0.9\")\n",
    "elif learning_rate == 0.01 * 1.1:\n",
    "    print(\"Sorry! learning_rate is too high. It looks like you increased the learning rate by 10% instead of decreasing it. Try again\")        \n",
    "else:\n",
    "    print(\"Sorry! learning_rate is incorrect. Try again and make sure to use the *= assignment operator\")"
   ]
  },
  {
   "cell_type": "code",
   "execution_count": 9,
   "id": "1974d925",
   "metadata": {},
   "outputs": [
    {
     "name": "stdout",
     "output_type": "stream",
     "text": [
      "Nice job! You can use the addition assignment operator like this: training_loss += 0.02\n"
     ]
    }
   ],
   "source": [
    "# Use the addition assignment operator to add \n",
    "# a small value (0.02) to the training_loss variable due to noisy data\n",
    "training_loss += 0.02\n",
    "\n",
    "### Notebook grading\n",
    "if training_loss == 0.8 + 0.02:\n",
    "    print(\"Nice job! You can use the addition assignment operator like this: training_loss += 0.02\")\n",
    "elif training_loss == 0.8:\n",
    "    print(\"Sorry! training_loss is too low. Did you add the noise? Try again\")        \n",
    "else:\n",
    "    print(\"Sorry! training_loss is incorrect. Try again and make sure to use the += assignment operator\")"
   ]
  },
  {
   "cell_type": "code",
   "execution_count": 10,
   "id": "71ba7ffe",
   "metadata": {},
   "outputs": [
    {
     "name": "stdout",
     "output_type": "stream",
     "text": [
      "Nice job! You can use the multiplication assignment operator like this: training_loss *= 1.05\n"
     ]
    }
   ],
   "source": [
    "# Use the multiplication assignment operator to increase \n",
    "# training_loss by 5% to account for overfitting\n",
    "training_loss *= 1.05 \n",
    "\n",
    "### Notebook grading\n",
    "if training_loss == (0.8 + 0.02) * 1.05:\n",
    "    print(\"Nice job! You can use the multiplication assignment operator like this: training_loss *= 1.05\")\n",
    "elif training_loss == 0.8 + 0.02:\n",
    "    print(\"Sorry! training_loss is too low. Did you account for overfitting? Try again\")        \n",
    "else:\n",
    "    print(\"Sorry! training_loss is incorrect. Try again and make sure to use the *= assignment operator\")"
   ]
  },
  {
   "cell_type": "code",
   "execution_count": 11,
   "id": "8ee2dd29",
   "metadata": {},
   "outputs": [
    {
     "name": "stdout",
     "output_type": "stream",
     "text": [
      "Nice job! You can use the multiplication assignment operator like this: training_loss *= 0.95\n"
     ]
    }
   ],
   "source": [
    "# Use the multiplication assignment operator to decrease \n",
    "# training_loss by 5% to account for regularization\n",
    "training_loss *= 0.95\n",
    "\n",
    "### Notebook grading\n",
    "if training_loss == (0.8 + 0.02) * 1.05 * 0.95:\n",
    "    print(\"Nice job! You can use the multiplication assignment operator like this: training_loss *= 0.95\")\n",
    "elif training_loss == (0.8 + 0.02) * 1.05:\n",
    "    print(\"Sorry! training_loss is too high. Did you account for regularization? Try again\")        \n",
    "else:\n",
    "    print(\"Sorry! training_loss is incorrect. Try again and make sure to use the *= assignment operator\")"
   ]
  },
  {
   "cell_type": "code",
   "execution_count": 12,
   "id": "71acf16b",
   "metadata": {},
   "outputs": [
    {
     "name": "stdout",
     "output_type": "stream",
     "text": [
      "Nice job! You can use the subtraction assignment operator like this: training_loss -= 0.05\n"
     ]
    }
   ],
   "source": [
    "# Use the subtraction assignment operator to subtract \n",
    "# a small value (0.05) from training_loss to account \n",
    "# for improved generalization due to more training data.\n",
    "training_loss -=0.05 \n",
    "\n",
    "### Notebook grading\n",
    "if training_loss == (0.8 + 0.02) * 1.05 * 0.95 - 0.05:\n",
    "    print(\"Nice job! You can use the subtraction assignment operator like this: training_loss -= 0.05\")\n",
    "elif training_loss == (0.8 + 0.02) * 1.05 * 0.95:\n",
    "    print(\"Sorry! training_loss is too high. Did you account for the improved generalization? Try again\")        \n",
    "else:\n",
    "    print(\"Sorry! training_loss is incorrect. Try again and make sure to use the -= assignment operator\")"
   ]
  },
  {
   "cell_type": "code",
   "execution_count": 13,
   "id": "cabf5892",
   "metadata": {},
   "outputs": [
    {
     "name": "stdout",
     "output_type": "stream",
     "text": [
      "Updated learning rate: 0.0009000000000000001\n"
     ]
    }
   ],
   "source": [
    "# Initial learning rate\n",
    "learning_rate = 1e-3  # Equivalent to 0.001\n",
    "\n",
    "# Update the learning rate by decreasing it by 10%\n",
    "learning_rate *= 0.9\n",
    "\n",
    "print(f\"Updated learning rate: {learning_rate}\")"
   ]
  },
  {
   "cell_type": "markdown",
   "id": "39a813db",
   "metadata": {},
   "source": [
    "## Quiz 4: Comparing Precision and Recall\n",
    "### Scenario:\n",
    "You are evaluating two machine learning models based on their performance metrics. Model 1 has 50 true positives, 10 false positives, and 5 false negatives. Model 2 has 45 true positives, 5 false positives, and 10 false negatives.\n",
    "\n",
    "### Tasks:\n",
    "\n",
    "1. Calculate the precision and recall for both models.\n",
    "2. Write code that gives a boolean value True if Model 1 has higher precision than Model 2, and False otherwise.\n",
    "3. Write code that gives a boolean value True if Model 1 has higher recall than Model 2, and False otherwise."
   ]
  },
  {
   "cell_type": "code",
   "execution_count": 14,
   "id": "0a4798c9",
   "metadata": {
    "vscode": {
     "languageId": "markdown"
    }
   },
   "outputs": [
    {
     "name": "stdout",
     "output_type": "stream",
     "text": [
      "Model 1 Precision: 0.83\n",
      "Model 1 Recall: 0.91\n",
      "Model 2 Precision: 0.90\n",
      "Model 2 Recall: 0.82\n",
      "Is Model 1 precision higher than Model 2? False\n",
      "Is Model 1 recall higher than Model 2? True\n"
     ]
    }
   ],
   "source": [
    "# Model 1 metrics\n",
    "model1_tp = 50\n",
    "model1_fp = 10\n",
    "model1_fn = 5\n",
    "\n",
    "# Model 2 metrics\n",
    "model2_tp = 45\n",
    "model2_fp = 5\n",
    "model2_fn = 10\n",
    "\n",
    "# Calculate precision and recall for Model 1\n",
    "model1_precision = model1_tp / (model1_tp + model1_fp)\n",
    "model1_recall = model1_tp / (model1_tp + model1_fn)\n",
    "\n",
    "# Calculate precision and recall for Model 2\n",
    "model2_precision = model2_tp / (model2_tp + model2_fp)\n",
    "model2_recall = model2_tp / (model2_tp + model2_fn)\n",
    "\n",
    "# Compare precision\n",
    "precision_comparison_result = model1_precision > model2_precision #replace `None` with your code\n",
    "\n",
    "# Compare recall\n",
    "recall_comparison_result = model1_recall > model2_recall #replace `None` with your code\n",
    "\n",
    "# Output the results\n",
    "print(f\"Model 1 Precision: {model1_precision:.2f}\")\n",
    "print(f\"Model 1 Recall: {model1_recall:.2f}\")\n",
    "print(f\"Model 2 Precision: {model2_precision:.2f}\")\n",
    "print(f\"Model 2 Recall: {model2_recall:.2f}\")\n",
    "print(f\"Is Model 1 precision higher than Model 2? {precision_comparison_result}\")\n",
    "print(f\"Is Model 1 recall higher than Model 2? {recall_comparison_result}\")"
   ]
  },
  {
   "cell_type": "markdown",
   "id": "6a209b72",
   "metadata": {},
   "source": [
    "## Quiz 5: Logging Model Results\n",
    "### Scenario:\n",
    "You are logging the results of model predictions for a machine learning model. You need to format a log message that includes the username, the time of the prediction, and the predicted label.\n",
    "\n",
    "### Task:\n",
    "Write a log message using the provided variables. The message should have the same format as: \n",
    "> \"User {username} received a prediction of {predicted_label} at {timestamp}.\""
   ]
  },
  {
   "cell_type": "code",
   "execution_count": 15,
   "id": "a0540b10",
   "metadata": {
    "vscode": {
     "languageId": "markdown"
    }
   },
   "outputs": [
    {
     "name": "stdout",
     "output_type": "stream",
     "text": [
      "Nice work!\n"
     ]
    }
   ],
   "source": [
    "username = \"Kinari\"\n",
    "timestamp = \"04:50\"\n",
    "predicted_label = \"cat\"\n",
    "\n",
    "# TODO: write a log message using the variables above.\n",
    "# The message should have the same format as this one:\n",
    "# \"User Kinari received a prediction of cat at 04:50.\"\n",
    "\n",
    "message = 'User '+ username + ' received a prediction of '+predicted_label+ ' at '+ timestamp + '.' #replace `None` with your code\n",
    "\n",
    "### Notebook grading\n",
    "def space_error(message):\n",
    "    feedback = \"\"\n",
    "    error = False\n",
    "    \"\"\"see if students forget to include a space\"\"\"\n",
    "    if message == '':\n",
    "        error = True\n",
    "        feedback = 'Looks like you are not printing anything!'\n",
    "        return error, feedback\n",
    "    if message[0]=='\"' or message[-1]=='\"':\n",
    "        feedback = \"The line does not need to start or end with quotes.\"\n",
    "        error = True\n",
    "    if \"Kinarireceived\" in message:\n",
    "        feedback = 'You forgot to include a space between \"Kinari\" and \"received\".'\n",
    "        error = True\n",
    "    if \"predictionof\" in message:\n",
    "        error = True\n",
    "        feedback = 'You forgot to include a space between \"prediction\" and \"of\".'\n",
    "    if \"at04\" in message:\n",
    "        error = True\n",
    "        feedback = 'You forgot to include a space between \"at\" and the timestamp.'\n",
    "    if message == ' ':\n",
    "        error = True\n",
    "        feedback = 'Looks like you are printing a space!'\n",
    "    if message == \"User Kinari received a prediction of cat at 04:50\":\n",
    "        feedback = 'Your log message doesn\\'t have a period \".\" at the end'\n",
    "        error = True\n",
    "    if 'User Yogesh' in message or 'dog' in message or '16:20' in message:\n",
    "        feedback = 'Use the variables `username`, `timestamp`, and `predicted_label` in the log message.'\n",
    "        error = True\n",
    "    return error, feedback\n",
    "    \n",
    "error, feedback = space_error(message)\n",
    "if message == \"User Kinari received a prediction of cat at 04:50.\":\n",
    "    print(\"Nice work!\")\n",
    "elif error:\n",
    "    print(feedback)\n",
    "else:\n",
    "    print('That\\'s not quite right. Are you formatting your string correctly?')"
   ]
  },
  {
   "cell_type": "markdown",
   "id": "ea4fe73f",
   "metadata": {},
   "source": [
    "## Quiz 3: Preparing Text for Named Entity Recognition (NER)\n",
    "\n",
    "Named Entity Recognition (NER) is a subtask of information extraction that seeks to locate and classify named entities in text into predefined categories such as the names of persons, organizations, locations, expressions of times, quantities, monetary values, percentages, etc. Preparing text data for NER involves ensuring that the text strings fit within specified limits and are correctly formatted.\n",
    "\n",
    "### Scenario:\n",
    "You are preparing text data for a Named Entity Recognition (NER) task. You need to ensure that the full name of a person fits within a specified character limit for a named entity.\n",
    "\n",
    "### Task:\n",
    "Use string concatenation and the `len()` function to find the length of the given name, including spaces. Store the length in the variable `name_length`."
   ]
  },
  {
   "cell_type": "code",
   "execution_count": 16,
   "id": "4ca1c889",
   "metadata": {
    "vscode": {
     "languageId": "markdown"
    }
   },
   "outputs": [
    {
     "name": "stdout",
     "output_type": "stream",
     "text": [
      "Good job!\n"
     ]
    }
   ],
   "source": [
    "given_name = \"William\"\n",
    "middle_names = \"Bradley\"\n",
    "family_name = \"Pitt\"\n",
    "\n",
    "# TODO: calculate how long this name is\n",
    "name_length = len(given_name + ' ' + middle_names + ' ' + family_name) #replace `None` with your code\n",
    "\n",
    "# Now we check to make sure that the name fits within the named entity character limit\n",
    "# Uncomment the code below. You don't need to make changes to the code.\n",
    "\n",
    "# named_entity_character_limit = 28\n",
    "# print(name_length <= named_entity_character_limit)\n",
    "\n",
    "### Notebook grading\n",
    "if name_length == 20:\n",
    "    print(\"Good job!\")\n",
    "elif name_length == 18:\n",
    "    print(\"Your result doesn't match the solution. Did you remember to count for the spaces between each part of the name?\")\n",
    "else:\n",
    "    print(\"Your result doesn't match the solution. Double check your code.\")"
   ]
  },
  {
   "cell_type": "code",
   "execution_count": 17,
   "id": "8c8890a2",
   "metadata": {
    "vscode": {
     "languageId": "markdown"
    }
   },
   "outputs": [
    {
     "name": "stdout",
     "output_type": "stream",
     "text": [
      "<class 'float'>\n",
      "<class 'int'>\n",
      "<class 'str'>\n",
      "<class 'bool'>\n"
     ]
    }
   ],
   "source": [
    "print(type(12.6))\n",
    "print(type(12))\n",
    "print(type('12.6'))\n",
    "print(type(True))"
   ]
  },
  {
   "cell_type": "markdown",
   "id": "6f4d0429",
   "metadata": {},
   "source": [
    "## Quiz: Total Sales\n",
    "In this quiz, you’ll need to change the types of the input and output data in order to get the result you want.\n",
    "\n",
    "Calculate the total sales for the week from the data provided. Assign the result to a string variable with the form `\"This week's total sales: xxx\"`, where xxx will be the actual total of all the numbers. You’ll need to change the type of the input data in order to calculate that total.\n",
    "\n",
    "**Note**: While assigning `\"This week's total sales: xxx\"`, you need to take care of the spaces to get the correct answer. Don't forget to include a space after the colon `\": \"`."
   ]
  },
  {
   "cell_type": "code",
   "execution_count": 18,
   "id": "026d3df0",
   "metadata": {
    "vscode": {
     "languageId": "markdown"
    }
   },
   "outputs": [
    {
     "name": "stdout",
     "output_type": "stream",
     "text": [
      "This week's total loss: 0.78\n",
      "You calculated the correct sum and formatted the string correctly. Nice work!\n"
     ]
    }
   ],
   "source": [
    "mon_loss = \"0.15\"\n",
    "tues_loss = \"0.12\"\n",
    "wed_loss = \"0.13\"\n",
    "thurs_loss = \"0.10\"\n",
    "fri_loss = \"0.11\"\n",
    "sat_loss = \"0.09\"\n",
    "sun_loss = \"0.08\"\n",
    "\n",
    "# TODO: assign the total loss to a string with this format: This week's total loss: xxx\n",
    "# You will probably need to write some lines of code before the assigning statement.\n",
    "\n",
    "# Convert string loss values to float and calculate the total loss\n",
    "total_loss = (float(mon_loss)+float(tues_loss)+float(wed_loss)+float(thurs_loss)+float(fri_loss)+float(sat_loss))+float(sun_loss)\n",
    "\n",
    "# Format the result string\n",
    "result_string = \"This week's total loss: {:.2f}\".format(total_loss)\n",
    "print(result_string)\n",
    "\n",
    "### Notebook grading\n",
    "if result_string == \"This week's total loss: 0.78\":\n",
    "    print(\"You calculated the correct sum and formatted the string correctly. Nice work!\")\n",
    "else:\n",
    "    print(\"That doesn't match the solution. The total loss should be 0.78. If that's what you got, check that your string is formatted correctly.\")\n"
   ]
  },
  {
   "cell_type": "markdown",
   "id": "166e8043",
   "metadata": {},
   "source": [
    "### string方法"
   ]
  },
  {
   "cell_type": "code",
   "execution_count": null,
   "id": "b7248274",
   "metadata": {},
   "outputs": [
    {
     "data": {
      "text/plain": [
       "True"
      ]
     },
     "execution_count": 19,
     "metadata": {},
     "output_type": "execute_result"
    }
   ],
   "source": [
    "s = \"Hello World\"\n",
    "s.lower()      # \"hello world\"  → 全部小写\n",
    "s.upper()      # \"HELLO WORLD\"  → 全部大写\n",
    "s.title()      # \"Hello World\"  → 每个单词首字母大写\n",
    "s.capitalize() # \"Hello world\"  → 首字母大写，其余小写\n",
    "s.swapcase()   # \"hELLO wORLD\"  → 大小写互换\n",
    "s.find(\"o\")        # 4  → 找到子串的索引，不存在返回 -1\n",
    "s.rfind(\"o\")       # 7  → 从右往左找\n",
    "s.index(\"o\")       # 4  → 找到子串索引，不存在会报错\n",
    "s.count(\"o\")       # 2  → 子串出现次数\n",
    "s.replace(\"world\", \"Python\")  # \"hello Python\" → 替换\n",
    "s.isalpha()    # 是否全字母\n",
    "s.isdigit()    # 是否全数字\n",
    "s.isalnum()    # 是否字母或数字\n",
    "s.isspace()    # 是否全空格\n",
    "s.islower()    # 是否全小写\n",
    "s.isupper()    # 是否全大写\n",
    "s.startswith(\"he\")  # 是否以指定子串开头\n",
    "s.endswith(\"ld\")    # 是否以指定子串结尾\n",
    "\n",
    "s = \"apple,banana,pear\"\n",
    "s.split(\",\")         # ['apple', 'banana', 'pear']  → 分割\n",
    "s.rsplit(\",\", 1)     # ['apple,banana', 'pear']     → 从右分割一次\n",
    "s.splitlines()       # 按行分割（换行符 \\n）\n",
    "\",\".join([\"a\", \"b\"]) # \"a,b\" → 拼接\n",
    "\n",
    "s = \"   hello   \"\n",
    "s.strip()   # \"hello\"  → 去掉两边空格\n",
    "s.lstrip()  # \"hello   \"  → 去掉左边空格\n",
    "s.rstrip()  # \"   hello\"  → 去掉右边空格\n",
    "\n",
    "name = \"Tom\"\n",
    "age = 20\n",
    "\"{} is {} years old\".format(name, age)  # \"Tom is 20 years old\"\n",
    "f\"{name} is {age} years old\"            # f-string: \"Tom is 20 years old\"\n",
    "\n",
    "s = \"hello\"\n",
    "s.encode(\"utf-8\")      # 转换成 bytes\n",
    "b\"hello\".decode()      # 从 bytes 转换回 str\n",
    "\n",
    "s.center(10, \"-\")  # \"--hello---\"  → 居中对齐\n",
    "s.ljust(10, \"*\")   # \"hello*****\"  → 左对齐\n",
    "s.rjust(10, \"*\")   # \"*****hello\"  → 右对齐\n",
    "s.zfill(8)         # \"000hello\"    → 左边补 0\n",
    "\n",
    "s.partition(\"l\")   # ('he', 'l', 'lo world') → 只分割一次\n",
    "s.rpartition(\"l\")  # ('hello wor', 'l', 'd')\n",
    "s.expandtabs(4)    # 把 \\t 转换为空格\n",
    "s.casefold()       # 更强大的 lower()（适合多语言）"
   ]
  },
  {
   "cell_type": "code",
   "execution_count": null,
   "id": "ea3af7af",
   "metadata": {},
   "outputs": [],
   "source": [
    "# 字符串运算符\n",
    "# + 字符串拼接\n",
    "print('10'+'10')\n",
    "\n",
    "# * 重复输出\n",
    "print('haha\\n'*5)\n",
    "\n",
    "# 成员运算符\n",
    "# 检查字符串中是否包含了某个子字符串\n",
    "# in：如果包含，返回True，否则返回False\n",
    "# not in：与in相反\n",
    "name='bingbing'\n",
    "print('b' in name)\n",
    "print('b' not in name)\n",
    "print('a' in name)\n",
    "print('a' not in name)\n",
    "\n",
    "# 下标\n",
    "# python中下标从左往右从0开始，从右往左从-1开始\n",
    "# 通过下标快速找到对应的数据\n",
    "# 格式：字符串名[下标值]\n",
    "name = 'haha'\n",
    "print(name[0])\n",
    "print(name[1])\n",
    "print(name[2])\n",
    "print(name[3])\n",
    "print(name[-1])\n",
    "print(name[-2])\n",
    "print(name[-3])\n",
    "print(name[-4])\n",
    "\n",
    "# 切片\n",
    "# 从操作对象截取其中的一部分的操作\n",
    "# [开始位置：结束为止：步长]\n",
    "# 包前不包后：从起始位置开始，到结束位置的前一位结束\n",
    "str = 'asdfghjkl'\n",
    "print(str[0:4])\n",
    "print(str[4:7])\n",
    "print(str[3:]) #下标为3之后的全部截取\n",
    "print(str[:3]) #下标为3之前的全部截取\n",
    "print(str[-1:])\n",
    "print(str[:-1])\n",
    "print(str[-1:-5])\n",
    "#步长默认为1，表示选取间隔\n",
    "#步长的绝对值大小决定切取的间隔，正负号决定切取方向\n",
    "#正：从左往右，负：从右往左\n",
    "print(str[-1:-5:-1])\n",
    "\n",
    "# 查找\n",
    "# find：检测某个子字符串是否包含在字符串中，如果在则返回这个子字符串开始位置的下标，否则返回-1\n",
    "# find(子字符串，开始位置下标，结束为止下标)\n",
    "name = 'haha'\n",
    "print(name.find('a'))\n",
    "print(name.find('ha'))\n",
    "print(name.find('h',2))\n",
    "print(name.find('h',3))"
   ]
  }
 ],
 "metadata": {
  "kernelspec": {
   "display_name": "base",
   "language": "python",
   "name": "python3"
  },
  "language_info": {
   "codemirror_mode": {
    "name": "ipython",
    "version": 3
   },
   "file_extension": ".py",
   "mimetype": "text/x-python",
   "name": "python",
   "nbconvert_exporter": "python",
   "pygments_lexer": "ipython3",
   "version": "3.12.2"
  }
 },
 "nbformat": 4,
 "nbformat_minor": 5
}
