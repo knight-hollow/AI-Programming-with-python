{
 "cells": [
  {
   "cell_type": "markdown",
   "id": "c9176932",
   "metadata": {},
   "source": [
    "## Panda\n",
    "Pandas 是 Python 的一个开源数据分析和处理库。  \n",
    "名字来自 “Panel Data”（面板数据）。  \n",
    "它建立在 NumPy 之上，提供了更高级的数据结构和操作工具。  \n",
    "常用于：数据清洗、数据分析、数据可视化前的准备。  \n",
    "官方[Panda使用手册](https://pandas.pydata.org/pandas-docs/stable/)"
   ]
  },
  {
   "cell_type": "markdown",
   "id": "6ca8c41b",
   "metadata": {},
   "source": [
    "__Series__: 一维数据，类似于一列（带索引的数组）。"
   ]
  },
  {
   "cell_type": "code",
   "execution_count": 84,
   "id": "f07f5fca",
   "metadata": {},
   "outputs": [
    {
     "name": "stdout",
     "output_type": "stream",
     "text": [
      "eggs       30\n",
      "apples      6\n",
      "milk      Yes\n",
      "bread      No\n",
      "dtype: object\n",
      "Groceries has shape: (4,)\n",
      "Groceries has dimension: 1\n",
      "Groceries has a total of 4 elements\n",
      "The data in Groceries is: [30 6 'Yes' 'No']\n",
      "The index of Groceries is: Index(['eggs', 'apples', 'milk', 'bread'], dtype='object')\n",
      "Is bananas an index label in Groceries: False\n",
      "Is bread an index label in Groceries: True\n",
      "How many eggs do we need to buy: 30\n",
      "How many eggs and apples do we need to buy:\n",
      " eggs      30\n",
      "apples     6\n",
      "dtype: object\n",
      "Do we need milk and bread:\n",
      " milk     Yes\n",
      "bread     No\n",
      "dtype: object\n"
     ]
    }
   ],
   "source": [
    "import pandas as pd\n",
    "groceries = pd.Series(data = [30, 6, 'Yes', 'No'], index = ['eggs', 'apples', 'milk', 'bread'])\n",
    "print(groceries)\n",
    "print('Groceries has shape:', groceries.shape)\n",
    "print('Groceries has dimension:', groceries.ndim)\n",
    "print('Groceries has a total of', groceries.size, 'elements')\n",
    "print('The data in Groceries is:', groceries.values)\n",
    "print('The index of Groceries is:', groceries.index)\n",
    "x = 'bananas' in groceries\n",
    "y = 'bread' in groceries\n",
    "print('Is bananas an index label in Groceries:', x)\n",
    "print('Is bread an index label in Groceries:', y)\n",
    "print('How many eggs do we need to buy:', groceries['eggs'])\n",
    "print('How many eggs and apples do we need to buy:\\n', groceries.loc[['eggs', 'apples']]) #使用带标签的索引\n",
    "print('Do we need milk and bread:\\n', groceries.iloc[[2, 3]]) #使用数值索引"
   ]
  },
  {
   "cell_type": "code",
   "execution_count": 85,
   "id": "76928345",
   "metadata": {},
   "outputs": [
    {
     "name": "stdout",
     "output_type": "stream",
     "text": [
      "Original Grocery List:\n",
      " eggs       30\n",
      "apples      6\n",
      "milk      Yes\n",
      "bread      No\n",
      "dtype: object\n",
      "Modified Grocery List:\n",
      " eggs        2\n",
      "apples      6\n",
      "milk      Yes\n",
      "bread      No\n",
      "dtype: object\n",
      "We remove apples (out of place):\n",
      " eggs       2\n",
      "milk     Yes\n",
      "bread     No\n",
      "dtype: object\n"
     ]
    }
   ],
   "source": [
    "print('Original Grocery List:\\n', groceries)\n",
    "groceries['eggs'] = 2\n",
    "print('Modified Grocery List:\\n', groceries)\n",
    "print('We remove apples (out of place):\\n', groceries.drop('apples'))"
   ]
  },
  {
   "cell_type": "code",
   "execution_count": 86,
   "id": "77eab128",
   "metadata": {},
   "outputs": [
    {
     "name": "stdout",
     "output_type": "stream",
     "text": [
      "Original grocery list of fruits:\n",
      "  apples     10\n",
      "oranges     6\n",
      "bananas     3\n",
      "dtype: int64\n",
      "fruits + 2:\n",
      " apples     12\n",
      "oranges     8\n",
      "bananas     5\n",
      "dtype: int64\n",
      "fruits - 2:\n",
      " apples     8\n",
      "oranges    4\n",
      "bananas    1\n",
      "dtype: int64\n",
      "fruits  *2:\n",
      " apples     20\n",
      "oranges    12\n",
      "bananas     6\n",
      "dtype: int64\n",
      "fruits / 2:\n",
      " apples     5.0\n",
      "oranges    3.0\n",
      "bananas    1.5\n",
      "dtype: float64\n"
     ]
    }
   ],
   "source": [
    "import numpy as np\n",
    "fruits= pd.Series(data = [10, 6, 3,], index = ['apples', 'oranges', 'bananas'])\n",
    "print('Original grocery list of fruits:\\n ', fruits)\n",
    "print('fruits + 2:\\n', fruits + 2) # We add 2 to each item in fruits\n",
    "print('fruits - 2:\\n', fruits - 2) # We subtract 2 to each item in fruits\n",
    "print('fruits  *2:\\n', fruits*  2) # We multiply each item in fruits by 2 \n",
    "print('fruits / 2:\\n', fruits / 2) # We divide each item in fruits by 2\n"
   ]
  },
  {
   "cell_type": "code",
   "execution_count": 87,
   "id": "cb352945",
   "metadata": {},
   "outputs": [
    {
     "name": "stdout",
     "output_type": "stream",
     "text": [
      "EXP(X) = \n",
      " apples     22026.465795\n",
      "oranges      403.428793\n",
      "bananas       20.085537\n",
      "dtype: float64\n",
      "SQRT(X) =\n",
      " apples     3.162278\n",
      "oranges    2.449490\n",
      "bananas    1.732051\n",
      "dtype: float64\n",
      "POW(X,2) =\n",
      " apples     100\n",
      "oranges     36\n",
      "bananas      9\n",
      "dtype: int64\n"
     ]
    }
   ],
   "source": [
    "print('EXP(X) = \\n', np.exp(fruits))\n",
    "print('SQRT(X) =\\n', np.sqrt(fruits))\n",
    "print('POW(X,2) =\\n',np.power(fruits,2))"
   ]
  },
  {
   "cell_type": "code",
   "execution_count": 88,
   "id": "1c1ee264",
   "metadata": {},
   "outputs": [
    {
     "name": "stdout",
     "output_type": "stream",
     "text": [
      "Shopping Carts:\n",
      "          Alice    Bob\n",
      "bike     500.0  245.0\n",
      "book      40.0    NaN\n",
      "glasses  110.0    NaN\n",
      "pants     45.0   25.0\n",
      "watch      NaN   55.0\n"
     ]
    }
   ],
   "source": [
    "items = {'Alice': pd.Series(data = [40, 110, 500, 45], index = ['book', 'glasses', 'bike', 'pants']),\n",
    "         'Bob': pd.Series(data = [245, 25, 55], index = ['bike', 'pants', 'watch'])}\n",
    "shopping_carts = pd.DataFrame(items) #二维表格数据\n",
    "print('Shopping Carts:\\n', shopping_carts)"
   ]
  },
  {
   "cell_type": "code",
   "execution_count": 89,
   "id": "42f222ed",
   "metadata": {},
   "outputs": [
    {
     "name": "stdout",
     "output_type": "stream",
     "text": [
      "   Alice    Bob\n",
      "0     40  245.0\n",
      "1    110   25.0\n",
      "2    500   55.0\n",
      "3     45    NaN\n",
      "shopping_carts has shape: (5, 2)\n",
      "shopping_carts has dimension: 2\n",
      "shopping_carts has a total of: 10 elements\n",
      "The data in shopping_carts is:\n",
      " [[500. 245.]\n",
      " [ 40.  nan]\n",
      " [110.  nan]\n",
      " [ 45.  25.]\n",
      " [ nan  55.]]\n",
      "The row index in shopping_carts is: Index(['bike', 'book', 'glasses', 'pants', 'watch'], dtype='object')\n",
      "The column index in shopping_carts is: Index(['Alice', 'Bob'], dtype='object')\n"
     ]
    }
   ],
   "source": [
    "data = {'Alice': pd.Series([40, 110, 500, 45]),\n",
    "        'Bob': pd.Series([245, 25, 55])}\n",
    "df = pd.DataFrame(data)\n",
    "print(df)\n",
    "print('shopping_carts has shape:', shopping_carts.shape)\n",
    "print('shopping_carts has dimension:', shopping_carts.ndim)\n",
    "print('shopping_carts has a total of:', shopping_carts.size, 'elements')\n",
    "print('The data in shopping_carts is:\\n', shopping_carts.values)\n",
    "print('The row index in shopping_carts is:', shopping_carts.index)\n",
    "print('The column index in shopping_carts is:', shopping_carts.columns)"
   ]
  },
  {
   "cell_type": "code",
   "execution_count": 90,
   "id": "775c80dc",
   "metadata": {},
   "outputs": [
    {
     "name": "stdout",
     "output_type": "stream",
     "text": [
      "       Bob\n",
      "bike   245\n",
      "pants   25\n",
      "watch   55\n",
      "       Alice   Bob\n",
      "pants     45  25.0\n",
      "book      40   NaN\n"
     ]
    }
   ],
   "source": [
    "bob_shopping_cart = pd.DataFrame(items, columns=['Bob'])\n",
    "print( bob_shopping_cart)\n",
    "sel_shopping_cart = pd.DataFrame(items, index = ['pants', 'book'])\n",
    "print(sel_shopping_cart)"
   ]
  },
  {
   "cell_type": "code",
   "execution_count": 91,
   "id": "c11daceb",
   "metadata": {},
   "outputs": [
    {
     "name": "stdout",
     "output_type": "stream",
     "text": [
      "         Floats  Integers\n",
      "label 1     4.5         1\n",
      "label 2     8.2         2\n",
      "label 3     9.6         3\n",
      "         bikes  pants  watches  glasses\n",
      "store 1     20     30       35      NaN\n",
      "store 2     15      5       10     50.0\n"
     ]
    }
   ],
   "source": [
    "data = {'Floats': [4.5, 8.2, 9.6],\n",
    "        'Integers': [1, 2, 3]}\n",
    "df = pd.DataFrame(data, index = ['label 1', 'label 2', 'label 3'])\n",
    "print(df)\n",
    "\n",
    "items2 = [{'bikes': 20, 'pants': 30, 'watches': 35}, \n",
    "          {'watches': 10, 'glasses': 50, 'bikes': 15, 'pants':5}]\n",
    "store_items = pd.DataFrame(items2, index = ['store 1', 'store 2'])\n",
    "print(store_items)\n"
   ]
  },
  {
   "cell_type": "code",
   "execution_count": 92,
   "id": "80dd2bee",
   "metadata": {},
   "outputs": [
    {
     "name": "stdout",
     "output_type": "stream",
     "text": [
      "How many bikes are in each store:\n",
      "          bikes\n",
      "store 1     20\n",
      "store 2     15\n",
      "How many bikes and pants are in each store:\n",
      "          bikes  pants\n",
      "store 1     20     30\n",
      "store 2     15      5\n",
      "What items are in Store 1:\n",
      "          bikes  pants  watches  glasses\n",
      "store 1     20     30       35      NaN\n",
      "How many bikes are in Store 2: 15\n"
     ]
    }
   ],
   "source": [
    "print('How many bikes are in each store:\\n', store_items[['bikes']])\n",
    "print('How many bikes and pants are in each store:\\n', store_items[['bikes', 'pants']])\n",
    "print('What items are in Store 1:\\n', store_items.loc[['store 1']])\n",
    "print('How many bikes are in Store 2:', store_items['bikes']['store 2'])"
   ]
  },
  {
   "cell_type": "code",
   "execution_count": 93,
   "id": "328722d4",
   "metadata": {},
   "outputs": [
    {
     "name": "stdout",
     "output_type": "stream",
     "text": [
      "         bikes  pants  watches  glasses  shirts\n",
      "store 1     20     30       35      NaN      15\n",
      "store 2     15      5       10     50.0       2\n",
      "         bikes  pants  watches  glasses  shirts  suits\n",
      "store 1     20     30       35      NaN      15     45\n",
      "store 2     15      5       10     50.0       2      7\n",
      "         bikes  pants  watches  glasses\n",
      "store 3     20     30       35        4\n",
      "         bikes  pants  watches  glasses  shirts  suits\n",
      "store 1     20     30       35      NaN    15.0   45.0\n",
      "store 2     15      5       10     50.0     2.0    7.0\n",
      "store 3     20     30       35      4.0     NaN    NaN\n",
      "         bikes  pants  watches  glasses  shirts  suits  new watches\n",
      "store 1     20     30       35      NaN    15.0   45.0          NaN\n",
      "store 2     15      5       10     50.0     2.0    7.0         10.0\n",
      "store 3     20     30       35      4.0     NaN    NaN         35.0\n",
      "         bikes  pants  watches  glasses  shoes  shirts  suits  new watches\n",
      "store 1     20     30       35      NaN      8    15.0   45.0          NaN\n",
      "store 2     15      5       10     50.0      5     2.0    7.0         10.0\n",
      "store 3     20     30       35      4.0      0     NaN    NaN         35.0\n"
     ]
    }
   ],
   "source": [
    "store_items['shirts'] = [15, 2]\n",
    "print(store_items)\n",
    "store_items['suits'] = store_items['pants'] + store_items['shirts']\n",
    "print(store_items)\n",
    "new_items = [{'bikes': 20, 'pants': 30, 'watches': 35, 'glasses': 4}]\n",
    "new_store = pd.DataFrame(new_items, index = ['store 3'])\n",
    "print(new_store)\n",
    "store_items = pd.concat([store_items, new_store])\n",
    "print(store_items)\n",
    "store_items['new watches'] = store_items['watches'][1:]\n",
    "print(store_items)\n",
    "store_items.insert(4, 'shoes', [8, 5, 0])\n",
    "print(store_items)\n"
   ]
  },
  {
   "cell_type": "code",
   "execution_count": 94,
   "id": "05c71292",
   "metadata": {},
   "outputs": [
    {
     "name": "stdout",
     "output_type": "stream",
     "text": [
      "         bikes  pants  watches  glasses  shoes  shirts  suits\n",
      "store 1     20     30       35      NaN      8    15.0   45.0\n",
      "store 2     15      5       10     50.0      5     2.0    7.0\n",
      "store 3     20     30       35      4.0      0     NaN    NaN\n",
      "         bikes  pants  glasses  shirts  suits\n",
      "store 1     20     30      NaN    15.0   45.0\n",
      "store 2     15      5     50.0     2.0    7.0\n",
      "store 3     20     30      4.0     NaN    NaN\n",
      "         bikes  pants  glasses  shirts  suits\n",
      "store 3     20     30      4.0     NaN    NaN\n",
      "         hats  pants  glasses  shirts  suits\n",
      "store 3    20     30      4.0     NaN    NaN\n",
      "            hats  pants  glasses  shirts  suits\n",
      "last store    20     30      4.0     NaN    NaN\n",
      "       hats  glasses  shirts  suits\n",
      "pants                              \n",
      "30       20      4.0     NaN    NaN\n"
     ]
    }
   ],
   "source": [
    "store_items.pop('new watches') # 删除特定列\n",
    "print(store_items)\n",
    "store_items = store_items.drop(['watches', 'shoes'], axis=1) # 删除多列\n",
    "print(store_items)\n",
    "store_items = store_items.drop(['store 2', 'store 1'], axis=0) # 删除多行\n",
    "print(store_items)\n",
    "store_items = store_items.rename(columns = {'bikes': 'hats'}) # 重命名列\n",
    "print(store_items)\n",
    "store_items = store_items.rename(index = {'store 3': 'last store'}) # 重命名行\n",
    "print(store_items)\n",
    "store_items = store_items.set_index('pants') # 设置新索引\n",
    "print(store_items)"
   ]
  },
  {
   "cell_type": "code",
   "execution_count": 95,
   "id": "fe6d1e89",
   "metadata": {},
   "outputs": [
    {
     "name": "stdout",
     "output_type": "stream",
     "text": [
      "         bikes  pants  watches  shirts  shoes  suits  glasses\n",
      "store 1     20     30       35    15.0      8   45.0      NaN\n",
      "store 2     15      5       10     2.0      5    7.0     50.0\n",
      "store 3     20     30       35     NaN     10    NaN      4.0\n",
      "Number of NaN values in our DataFrame: 3\n",
      "         bikes  pants  watches  shirts  shoes  suits  glasses\n",
      "store 1     20     30       35    15.0      8   45.0      0.0\n",
      "store 2     15      5       10     2.0      5    7.0     50.0\n",
      "store 3     20     30       35     0.0     10    0.0      4.0\n"
     ]
    },
    {
     "data": {
      "text/html": [
       "<div>\n",
       "<style scoped>\n",
       "    .dataframe tbody tr th:only-of-type {\n",
       "        vertical-align: middle;\n",
       "    }\n",
       "\n",
       "    .dataframe tbody tr th {\n",
       "        vertical-align: top;\n",
       "    }\n",
       "\n",
       "    .dataframe thead th {\n",
       "        text-align: right;\n",
       "    }\n",
       "</style>\n",
       "<table border=\"1\" class=\"dataframe\">\n",
       "  <thead>\n",
       "    <tr style=\"text-align: right;\">\n",
       "      <th></th>\n",
       "      <th>bikes</th>\n",
       "      <th>pants</th>\n",
       "      <th>watches</th>\n",
       "      <th>shirts</th>\n",
       "      <th>shoes</th>\n",
       "      <th>suits</th>\n",
       "      <th>glasses</th>\n",
       "    </tr>\n",
       "  </thead>\n",
       "  <tbody>\n",
       "    <tr>\n",
       "      <th>store 1</th>\n",
       "      <td>20</td>\n",
       "      <td>30</td>\n",
       "      <td>35</td>\n",
       "      <td>15.0</td>\n",
       "      <td>8</td>\n",
       "      <td>45.0</td>\n",
       "      <td>0.0</td>\n",
       "    </tr>\n",
       "    <tr>\n",
       "      <th>store 2</th>\n",
       "      <td>15</td>\n",
       "      <td>5</td>\n",
       "      <td>10</td>\n",
       "      <td>2.0</td>\n",
       "      <td>5</td>\n",
       "      <td>7.0</td>\n",
       "      <td>50.0</td>\n",
       "    </tr>\n",
       "    <tr>\n",
       "      <th>store 3</th>\n",
       "      <td>20</td>\n",
       "      <td>30</td>\n",
       "      <td>35</td>\n",
       "      <td>0.0</td>\n",
       "      <td>10</td>\n",
       "      <td>0.0</td>\n",
       "      <td>4.0</td>\n",
       "    </tr>\n",
       "  </tbody>\n",
       "</table>\n",
       "</div>"
      ],
      "text/plain": [
       "         bikes  pants  watches  shirts  shoes  suits  glasses\n",
       "store 1     20     30       35    15.0      8   45.0      0.0\n",
       "store 2     15      5       10     2.0      5    7.0     50.0\n",
       "store 3     20     30       35     0.0     10    0.0      4.0"
      ]
     },
     "execution_count": 95,
     "metadata": {},
     "output_type": "execute_result"
    }
   ],
   "source": [
    "#处理NaN\n",
    "items2 = [{'bikes': 20, 'pants': 30, 'watches': 35, 'shirts': 15, 'shoes':8, 'suits':45},\n",
    "          {'watches': 10, 'glasses': 50, 'bikes': 15, 'pants':5, 'shirts': 2, 'shoes':5, 'suits':7},\n",
    "          {'bikes': 20, 'pants': 30, 'watches': 35, 'glasses': 4, 'shoes':10}]\n",
    "\n",
    "store_items = pd.DataFrame(items2, index = ['store 1', 'store 2', 'store 3'])\n",
    "print(store_items)\n",
    "x =  store_items.isnull().sum().sum() \n",
    "print('Number of NaN values in our DataFrame:', x)\n",
    "store_items.isnull() #返回是否是NaN的布尔值DataFrame\n",
    "store_items.isnull().sum() #返回每列的NaN数量\n",
    "store_items.isnull().sum().sum() #返回总的NaN数量\n",
    "store_items = store_items.fillna(0) #用0填充NaN\n",
    "print(store_items)\n",
    "store_items.dropna(axis = 0) #删除含有NaN的行\n",
    "store_items.dropna(axis = 1) #删除含有NaN的列\n",
    "store_items.ffill(axis=0) #用前一个值填充NaN\n",
    "store_items.bfill(axis=0) #用后一个值填充NaN\n",
    "store_items.interpolate(method='linear', axis=0) #线性插值填充NaN"
   ]
  },
  {
   "cell_type": "code",
   "execution_count": null,
   "id": "e3662b22",
   "metadata": {},
   "outputs": [],
   "source": [
    "google_stock = pd.read_csv('./GOOG.csv')\n",
    "google_stock.head() # 显示前5行数据\n",
    "google_stock.tail() # 显示最后5行数据\n",
    "google_stock.describe() # 显示数据的统计信息\n",
    "google_stock.isnull().any() # 返回是否含有NaN的布尔值Series\n",
    "google_stock.max() # 返回每列的最大值\n",
    "google_stock.min() # 返回每列的最小值\n",
    "google_stock.mean() # 返回每列的平均值\n",
    "google_stock.corr() # 计算每列之间的相关性\n",
    "google_stock.groupby('Date').mean() # 按日期分组并计算平均值"
   ]
  }
 ],
 "metadata": {
  "kernelspec": {
   "display_name": "base",
   "language": "python",
   "name": "python3"
  },
  "language_info": {
   "codemirror_mode": {
    "name": "ipython",
    "version": 3
   },
   "file_extension": ".py",
   "mimetype": "text/x-python",
   "name": "python",
   "nbconvert_exporter": "python",
   "pygments_lexer": "ipython3",
   "version": "3.12.2"
  }
 },
 "nbformat": 4,
 "nbformat_minor": 5
}
