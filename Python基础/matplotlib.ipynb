{
 "cells": [
  {
   "cell_type": "markdown",
   "id": "63936474",
   "metadata": {},
   "source": [
    "## Matplotlib 和 Seaborn"
   ]
  },
  {
   "cell_type": "markdown",
   "id": "eddc2176",
   "metadata": {},
   "source": [
    "### 单变量图像\n",
    "| 图像类型 | matplotlib.pyplot function | seaborn function |\n",
    "|:-----:|:-----:|:-----:|\n",
    "| 柱状图  | ---   | [countplot()](https://seaborn.pydata.org/generated/seaborn.countplot.html) <br> [barplot()](https://seaborn.pydata.org/generated/seaborn.barplot.html) |\n",
    "| 饼图   | [pie()](https://matplotlib.org/stable/api/_as_gen/matplotlib.pyplot.pie.html)   | ---  |\n",
    "| 直方图   | [hist()](https://matplotlib.org/3.3.1/api/_as_gen/matplotlib.pyplot.hist.html)   | [distplot](https://seaborn.pydata.org/generated/seaborn.distplot.html) <br> [displot](https://seaborn.pydata.org/generated/seaborn.displot.html#seaborn.displot) <br> [histplot](https://seaborn.pydata.org/generated/seaborn.histplot.html#seaborn.histplot)|"
   ]
  },
  {
   "cell_type": "markdown",
   "id": "6d61d2ae",
   "metadata": {},
   "source": [
    "### 双变量图像\n",
    "| 图像类型 | matplotlib.pyplot function | seaborn function |\n",
    "|:-----:|:-----:|:-----:|\n",
    "| 散点图 | [scatter()](https://matplotlib.org/stable/api/_as_gen/matplotlib.pyplot.scatter.html) | [regplot()](https://seaborn.pydata.org/generated/seaborn.regplot.html) |\n",
    "| 热力图 | [hist2d()](https://matplotlib.org/stable/api/_as_gen/matplotlib.pyplot.hist2d.html) | [heatmap()](https://seaborn.pydata.org/generated/seaborn.heatmap.html) |\n",
    "| Violin图 | --- | [violinplot()](https://seaborn.pydata.org/generated/seaborn.violinplot.html) |\n",
    "| 箱线图 | --- | [boxplot()](https://seaborn.pydata.org/generated/seaborn.boxplot.html) |\n",
    "| 簇状柱状图 | --- | [countplot()](https://seaborn.pydata.org/generated/seaborn.countplot.html) <br> [heatmap()](https://seaborn.pydata.org/generated/seaborn.heatmap.html) |\n",
    "| 分面绘图 | --- | [FacetGrid()](https://seaborn.pydata.org/generated/seaborn.FacetGrid.html) |\n",
    "| 柱状图 | --- | [barplot()](https://seaborn.pydata.org/generated/seaborn.barplot.html) |\n",
    "| 点图 | --- | [pointplot()](https://seaborn.pydata.org/generated/seaborn.pointplot.html) |\n",
    "| 折线图 | [errorbar()](https://matplotlib.org/stable/api/_as_gen/matplotlib.pyplot.errorbar.html) | --- |"
   ]
  }
 ],
 "metadata": {
  "kernelspec": {
   "display_name": "base",
   "language": "python",
   "name": "python3"
  },
  "language_info": {
   "codemirror_mode": {
    "name": "ipython",
    "version": 3
   },
   "file_extension": ".py",
   "mimetype": "text/x-python",
   "name": "python",
   "nbconvert_exporter": "python",
   "pygments_lexer": "ipython3",
   "version": "3.12.2"
  }
 },
 "nbformat": 4,
 "nbformat_minor": 5
}
