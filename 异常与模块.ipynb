{
 "cells": [
  {
   "cell_type": "markdown",
   "id": "f67ba5fb",
   "metadata": {},
   "source": [
    "# Python for AI programmers\n",
    "## Python基础\n",
    "### 异常与模块"
   ]
  },
  {
   "cell_type": "markdown",
   "id": "a6012da7",
   "metadata": {},
   "source": [
    "异常：在程序运行时，当python检测到一个错误时，解释器将无法继续执行后续的代码并显示相应的错误提示信息，这种情况被称之为异常  \n",
    "它代表程序运行时发生的错误或异常情况，会导致程序正常执行流程的中断  \n",
    "NameError:使用一个还未被赋值的变量  \n",
    "SyntaxError:语法错误  \n",
    "IndexError:下标/索引超出范围  \n",
    "ZeroDivisionError:除数为0  \n",
    "KeyError:字典中不存在该键  \n",
    "IOError:输入/输出操作失败，基本上是无法打开文件  \n",
    "AttributeError:对象没有这个属性  \n",
    "ValueError:传入的值有错误  \n",
    "TypeError:类型错误，传入的类型不匹配  \n",
    "ImportError:无法引入模块或包  \n",
    "IndentationError:缩进错误  \n",
    "\n",
    "捕获异常  \n",
    "try：  \n",
    "  尝试执行的代码块  \n",
    "except 异常类型 as 变量：  \n",
    "  检测到异常要执行的代码块  \n",
    "else：  \n",
    "  没有检测到异常要执行的代码块  \n",
    "finally：  \n",
    "  无论是否检测到异常都要执行的代码块  \n",
    "\n",
    "抛出异常 raise  \n",
    "创建一个Exception（‘xxx’）对象，xxx--异常信息提示  \n",
    "raise抛出这个对象（异常对象）  "
   ]
  },
  {
   "cell_type": "code",
   "execution_count": 2,
   "id": "44545d4b",
   "metadata": {},
   "outputs": [
    {
     "name": "stdout",
     "output_type": "stream",
     "text": [
      "please input a number!\n",
      "thank you\n",
      "具体异常信息 invalid literal for int() with base 10: 't'\n",
      "thank you\n",
      "hahaha\n"
     ]
    },
    {
     "ename": "Exception",
     "evalue": "有个错误",
     "output_type": "error",
     "traceback": [
      "\u001b[0;31m---------------------------------------------------------------------------\u001b[0m",
      "\u001b[0;31mException\u001b[0m                                 Traceback (most recent call last)",
      "\u001b[0;32m/var/folders/3h/vb9khfs12bjf5dykzt41gqp80000gn/T/ipykernel_35468/255944841.py\u001b[0m in \u001b[0;36m<cell line: 0>\u001b[0;34m()\u001b[0m\n\u001b[1;32m     25\u001b[0m     \u001b[0;32mraise\u001b[0m \u001b[0mException\u001b[0m\u001b[0;34m(\u001b[0m\u001b[0;34m'有个错误'\u001b[0m\u001b[0;34m)\u001b[0m\u001b[0;34m\u001b[0m\u001b[0;34m\u001b[0m\u001b[0m\n\u001b[1;32m     26\u001b[0m     \u001b[0mprint\u001b[0m\u001b[0;34m(\u001b[0m\u001b[0;34m'hahahahahah'\u001b[0m\u001b[0;34m)\u001b[0m\u001b[0;31m#执行了raise语法，代码不会继续往下运行\u001b[0m\u001b[0;34m\u001b[0m\u001b[0;34m\u001b[0m\u001b[0m\n\u001b[0;32m---> 27\u001b[0;31m \u001b[0mfuna\u001b[0m\u001b[0;34m(\u001b[0m\u001b[0;34m)\u001b[0m\u001b[0;34m\u001b[0m\u001b[0;34m\u001b[0m\u001b[0m\n\u001b[0m\u001b[1;32m     28\u001b[0m \u001b[0;32mdef\u001b[0m \u001b[0mlogin\u001b[0m\u001b[0;34m(\u001b[0m\u001b[0;34m)\u001b[0m\u001b[0;34m:\u001b[0m\u001b[0;34m\u001b[0m\u001b[0;34m\u001b[0m\u001b[0m\n\u001b[1;32m     29\u001b[0m     \u001b[0mcode\u001b[0m\u001b[0;34m=\u001b[0m\u001b[0minput\u001b[0m\u001b[0;34m(\u001b[0m\u001b[0;34m\"please input the code\\n\"\u001b[0m\u001b[0;34m)\u001b[0m\u001b[0;34m\u001b[0m\u001b[0;34m\u001b[0m\u001b[0m\n",
      "\u001b[0;32m/var/folders/3h/vb9khfs12bjf5dykzt41gqp80000gn/T/ipykernel_35468/255944841.py\u001b[0m in \u001b[0;36mfuna\u001b[0;34m()\u001b[0m\n\u001b[1;32m     23\u001b[0m \u001b[0;32mdef\u001b[0m \u001b[0mfuna\u001b[0m\u001b[0;34m(\u001b[0m\u001b[0;34m)\u001b[0m\u001b[0;34m:\u001b[0m\u001b[0;34m\u001b[0m\u001b[0;34m\u001b[0m\u001b[0m\n\u001b[1;32m     24\u001b[0m     \u001b[0mprint\u001b[0m\u001b[0;34m(\u001b[0m\u001b[0;34m\"hahaha\"\u001b[0m\u001b[0;34m)\u001b[0m\u001b[0;34m\u001b[0m\u001b[0;34m\u001b[0m\u001b[0m\n\u001b[0;32m---> 25\u001b[0;31m     \u001b[0;32mraise\u001b[0m \u001b[0mException\u001b[0m\u001b[0;34m(\u001b[0m\u001b[0;34m'有个错误'\u001b[0m\u001b[0;34m)\u001b[0m\u001b[0;34m\u001b[0m\u001b[0;34m\u001b[0m\u001b[0m\n\u001b[0m\u001b[1;32m     26\u001b[0m     \u001b[0mprint\u001b[0m\u001b[0;34m(\u001b[0m\u001b[0;34m'hahahahahah'\u001b[0m\u001b[0;34m)\u001b[0m\u001b[0;31m#执行了raise语法，代码不会继续往下运行\u001b[0m\u001b[0;34m\u001b[0m\u001b[0;34m\u001b[0m\u001b[0m\n\u001b[1;32m     27\u001b[0m \u001b[0mfuna\u001b[0m\u001b[0;34m(\u001b[0m\u001b[0;34m)\u001b[0m\u001b[0;34m\u001b[0m\u001b[0;34m\u001b[0m\u001b[0m\n",
      "\u001b[0;31mException\u001b[0m: 有个错误"
     ]
    }
   ],
   "source": [
    "from lief import exception\n",
    "\n",
    "try:\n",
    "    num1 = int(input(\"please input a number\\n\"))\n",
    "except ValueError:\n",
    "#except (ValueError,NameError):\n",
    "    print(\"please input a number!\")\n",
    "else:\n",
    "    print(num1)\n",
    "finally:\n",
    "    print(\"thank you\")\n",
    "\n",
    "try:\n",
    "    num1 = int(input(\"please input a number\\n\"))\n",
    "except Exception as e:#捕获程序中可能发生的任意非语法错误类型异常，并将捕获到的异常对象（包含异常描述信息）报错到变量e中\n",
    "    print(\"具体异常信息\",e)\n",
    "else:\n",
    "    print(\"转化成功\")\n",
    "    print(num1)\n",
    "finally:\n",
    "    print(\"thank you\")\n",
    "\n",
    "def funa():\n",
    "    print(\"hahaha\")\n",
    "    raise Exception('有个错误')\n",
    "    print('hahahahahah')#执行了raise语法，代码不会继续往下运行\n",
    "funa()\n",
    "def login():\n",
    "    code=input(\"please input the code\\n\")\n",
    "    if len(code) >=8:\n",
    "        return \"success\"\n",
    "    raise exception('failed') #有return，若是密码大于8位，不会运行到raise\n",
    "#print(login())\n",
    "try:\n",
    "    print(login())\n",
    "except exception as e:\n",
    "    print(e)\n",
    "# 捕获异常是为了检测到异常时代码还能继续往下运行，即程序不会终止"
   ]
  },
  {
   "cell_type": "markdown",
   "id": "5ca8e67a",
   "metadata": {},
   "source": [
    "模块：一个py文件就是一个模块，即导入一个模块本质上就是执行一个py文件。\n",
    "内置模块  \n",
    "如：random、time、os直接导入即可使用  \n",
    "第三方模块  \n",
    "终端输入pip install 模块名  \n",
    "自定义模块  \n",
    "即自己在项目中定义的模块  \n",
    "注意：命名要遵循标识符规定以及变量命名规范，并且不要与内置模块起冲突，否则会导致模块功能无法使用   \n",
    "\n",
    "倒入模块  \n",
    "import 模块名#最好是一个import导入一个模块  \n",
    "import 模块1，模块2  \n",
    "调用功能：模块名.功能名  \n",
    "\n",
    "#from 模块名 import 功能名  \n",
    "#调用时只需要输入功能即可  \n",
    "\n",
    "#from 模块名 import *  \n",
    "#把模块中所有内容全部倒入  \n",
    "#不建议过多使用，有时候会导致命名冲突造成一些错误  \n",
    "\n",
    "#as取别名  \n",
    "#import 模块名 as 别名  "
   ]
  },
  {
   "cell_type": "code",
   "execution_count": null,
   "id": "f42bd495",
   "metadata": {},
   "outputs": [],
   "source": []
  }
 ],
 "metadata": {
  "kernelspec": {
   "display_name": "base",
   "language": "python",
   "name": "python3"
  },
  "language_info": {
   "codemirror_mode": {
    "name": "ipython",
    "version": 3
   },
   "file_extension": ".py",
   "mimetype": "text/x-python",
   "name": "python",
   "nbconvert_exporter": "python",
   "pygments_lexer": "ipython3",
   "version": "3.12.2"
  }
 },
 "nbformat": 4,
 "nbformat_minor": 5
}
