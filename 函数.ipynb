{
 "cells": [
  {
   "cell_type": "markdown",
   "id": "cc5774f7",
   "metadata": {},
   "source": [
    "# Python for AI programmers\n",
    "## Python基础\n",
    "### 函数"
   ]
  },
  {
   "cell_type": "markdown",
   "id": "1903c6ae",
   "metadata": {},
   "source": [
    "将具有独立功能的代码块组成一个整体，使其具有特殊功能的代码集，在需要的时候再去调用即可  \n",
    "作用：提高代码的重用性，使整体代码看上去更加简练    \n",
    "格式  \n",
    "def 函数名（）:  \n",
    "   函数体  \n",
    "调用函数  \n",
    "函数名（）  \n",
    "\n",
    "返回值。\n",
    "函数执行结束后，最后给调用者的一个结果  \n",
    "作用  \n",
    "return 会给函数的执行者返回值  \n",
    "函数中遇到return，表示此函数结束，不继续执行  \n",
    "return返回多个值，以元组的形式返回给调用者  \n",
    "没有返回值，返回的结果是none  \n",
    "\n",
    "参数  \n",
    "格式  \n",
    "def 函数名（形参1，形参2，···）  \n",
    "   函数体  \n",
    "调用格式  \n",
    "函数名（实参1，实参2，···）  \n",
    "必备参数：传递和定义参数的顺序及个数必须一致  \n",
    "格式 def 函数名（形参1，形参2，···）  \n",
    "有几个形参就要传递几个实参，不可以多传，也不可以少传  \n",
    "\n",
    "默认参数：为参数提供默认值，调用函数时可以不传该默认参数的值  \n",
    "所有的位置参数必须出现在默认参数前，包括函数定义和调用  \n",
    "格式 def 函数名（形参1，形参2，默认参数）  \n",
    "设置默认值，没有传值会根据默认值来执行代码，传了值根据传入的值来执行  \n",
    "\n",
    "可变参数：传入的值的数量是可以改变的，可以传入多个，也可以不传   \n",
    "格式：def 函数名（*args）   \n",
    "\n",
    "关键字参数  \n",
    "格式：def 函数名（**kwargs）  \n",
    "以字典的形式接受，作用：可以拓展函数的功能  "
   ]
  },
  {
   "cell_type": "code",
   "execution_count": 2,
   "id": "4b6d3627",
   "metadata": {},
   "outputs": [
    {
     "name": "stdout",
     "output_type": "stream",
     "text": [
      "785.3975\n",
      "6\n",
      "7\n",
      "(1,)\n",
      "(1, 2)\n",
      "{'name': 'haha', 'age': 18}\n"
     ]
    }
   ],
   "source": [
    "def cylinder_volume(height, radius):\n",
    "    pi = 3.14159\n",
    "    return height  *pi*  radius ** 2\n",
    "print(cylinder_volume(10, 5))\n",
    "\n",
    "def funa(a,b,c=3):\n",
    "    return a+b+c\n",
    "print(funa(1,2,))\n",
    "print(funa(1,2,4))\n",
    "\n",
    "def funa(*args):\n",
    "    print(args)#以元组的形式接受\n",
    "funa(1)\n",
    "funa(1,2)\n",
    "\n",
    "def funa(**kwargs):\n",
    "    print(kwargs)\n",
    "funa(name='haha',age=18)#以字典的形式传值，传值时采用键=值的形式\n"
   ]
  },
  {
   "cell_type": "markdown",
   "id": "19f40e4e",
   "metadata": {},
   "source": [
    "作用域：指的是变量生效的范围，有两种，分别是全局变量和局部变量  \n",
    "全局变量：函数外部定义的变量，在整个文件中都是有效的  \n",
    "局部变量：函数内部定义的变量，从定义位置开始到函数定义结束位置有效，在函数外部无法使用  \n",
    "作用：在函数体内部，临时保存数据，函数调用完成后，就销毁局部变量  "
   ]
  },
  {
   "cell_type": "code",
   "execution_count": 3,
   "id": "d1f23092",
   "metadata": {},
   "outputs": [
    {
     "name": "stdout",
     "output_type": "stream",
     "text": [
      "100\n",
      "120\n",
      "100\n",
      "100\n",
      "120\n",
      "120\n",
      "5\n",
      "5\n",
      "20\n",
      "20\n",
      "10\n"
     ]
    }
   ],
   "source": [
    "a=100\n",
    "def func():\n",
    "    print(a)\n",
    "def func2():\n",
    "    a=120\n",
    "    print(a)\n",
    "func()\n",
    "func2()\n",
    "print(a)\n",
    "# 函数内部如果要使用变量，会先从函数内部找，有的话就直接使用，没有再去函数外部找\n",
    "\n",
    "a=100\n",
    "def func():\n",
    "    print(a)\n",
    "def func2():\n",
    "    global a\n",
    "    a = 120\n",
    "    print(a)\n",
    "func()\n",
    "func2()\n",
    "print(a)\n",
    "# global关键字可以对全局变量进行修改，也可以在局部作用域中声明一个全局变量\n",
    "\n",
    "# nonlocal：声明外层的局部变量，在外部函数先进行声明，内部函数进行nonlocal声明\n",
    "a = 10\n",
    "def outer():\n",
    "    a = 5\n",
    "    def inner():\n",
    "        print(a)\n",
    "    inner()\n",
    "    print(a)\n",
    "outer()\n",
    "\n",
    "a=10\n",
    "def outer():\n",
    "    a = 5\n",
    "    def inner():\n",
    "        nonlocal a\n",
    "        a = 20\n",
    "        print(a)\n",
    "    inner()\n",
    "    print(a)\n",
    "outer()\n",
    "print(a)\n",
    "# nonlocal只能对上一级进行修改"
   ]
  },
  {
   "cell_type": "markdown",
   "id": "106bb94a",
   "metadata": {},
   "source": [
    "匿名函数  \n",
    "函数名 = lambda 形参 ：返回值（表达式）  \n",
    "调用 结果 = 函数名（实参）  "
   ]
  },
  {
   "cell_type": "code",
   "execution_count": 5,
   "id": "24018967",
   "metadata": {},
   "outputs": [
    {
     "name": "stdout",
     "output_type": "stream",
     "text": [
      "3\n",
      "haha\n",
      "4\n",
      "11\n",
      "(1, 2, 3)\n",
      "a比b小\n",
      "a比b小\n"
     ]
    }
   ],
   "source": [
    "add = lambda a,b: a+b\n",
    "print(add(1,2))\n",
    "# lambda不需要写return来返回值，表达式本身就是返回\n",
    "\n",
    "#lambda的参数形式\n",
    "#无参数\n",
    "funa = lambda :'haha'\n",
    "print(funa())\n",
    "#有参数\n",
    "funb = lambda x:x*2\n",
    "print(funb(2))\n",
    "#默认参数\n",
    "func = lambda x,y=10:x+y\n",
    "print(func(1))\n",
    "#默认参数必须写在非默认参数后面\n",
    "#可变参数\n",
    "fund = lambda *args:args\n",
    "print(fund(1,2,3))\n",
    "\n",
    "# lambda结合if判断\n",
    "a = 5\n",
    "b = 7\n",
    "print(\"a比b大\") if a > b else print(\"a比b小\")\n",
    "\n",
    "camp = lambda a,b : \"a比b大\" if a > b else \"a比b小\"\n",
    "print(camp(5,7))\n",
    "\n",
    "# lambda只能实现简单的逻辑，如果逻辑复杂且代码量较大，不建议使用lambda,降低代码的可读性，为后续的代码维护增加难度\n"
   ]
  }
 ],
 "metadata": {
  "kernelspec": {
   "display_name": "base",
   "language": "python",
   "name": "python3"
  },
  "language_info": {
   "codemirror_mode": {
    "name": "ipython",
    "version": 3
   },
   "file_extension": ".py",
   "mimetype": "text/x-python",
   "name": "python",
   "nbconvert_exporter": "python",
   "pygments_lexer": "ipython3",
   "version": "3.12.2"
  }
 },
 "nbformat": 4,
 "nbformat_minor": 5
}
