{
 "cells": [
  {
   "cell_type": "markdown",
   "metadata": {},
   "source": [
    "# 通过 PyTorch 构建神经网络\n",
    "\n",
    "深度学习网络一般量级都很大，包含数百个层级，这也是为什么叫“深度”学习网络。你可以像在上个 notebook 展示的一样，仅使用权重矩阵构建深度网络，但是这通常很繁琐并且不好实施。PyTorch 有一个很方便的模块 `nn`，可以有效地构建大型神经网络。"
   ]
  },
  {
   "cell_type": "code",
   "execution_count": 1,
   "metadata": {},
   "outputs": [],
   "source": [
    "# Import necessary packages\n",
    "\n",
    "%matplotlib inline\n",
    "%config InlineBackend.figure_format = 'retina'\n",
    "\n",
    "import numpy as np\n",
    "import torch\n",
    "\n",
    "import helper\n",
    "\n",
    "import matplotlib.pyplot as plt"
   ]
  },
  {
   "cell_type": "markdown",
   "metadata": {},
   "source": [
    "现在我们要构建一个大型网络，并用它解决识别图像中的文字的这一难题。我们将使用 MNIST 数据集，这个数据集由灰色的手写数字组成。每个图像都是 28x28，如以下示例所示：\n",
    "\n",
    "<img src='assets/mnist.png'>\n",
    "\n",
    "我们的目标是构建一个神经网络，可以预测图像中的数字。\n",
    "\n",
    "首先，我们需要获取数据集。这些数据位于 `torchvision` 软件包中。以下代码将下载 MNIST 数据集，然后为我们创建训练数据集和测试数据集。"
   ]
  },
  {
   "cell_type": "code",
   "execution_count": 2,
   "metadata": {},
   "outputs": [
    {
     "name": "stdout",
     "output_type": "stream",
     "text": [
      "Downloading http://yann.lecun.com/exdb/mnist/train-images-idx3-ubyte.gz\n",
      "Failed to download (trying next):\n",
      "HTTP Error 404: Not Found\n",
      "\n",
      "Downloading https://ossci-datasets.s3.amazonaws.com/mnist/train-images-idx3-ubyte.gz\n",
      "Downloading https://ossci-datasets.s3.amazonaws.com/mnist/train-images-idx3-ubyte.gz to /home/student/.pytorch/MNIST_data/MNIST/raw/train-images-idx3-ubyte.gz\n"
     ]
    },
    {
     "name": "stderr",
     "output_type": "stream",
     "text": [
      "100%|██████████| 9912422/9912422 [00:00<00:00, 29467573.64it/s]\n"
     ]
    },
    {
     "name": "stdout",
     "output_type": "stream",
     "text": [
      "Extracting /home/student/.pytorch/MNIST_data/MNIST/raw/train-images-idx3-ubyte.gz to /home/student/.pytorch/MNIST_data/MNIST/raw\n",
      "\n",
      "Downloading http://yann.lecun.com/exdb/mnist/train-labels-idx1-ubyte.gz\n",
      "Failed to download (trying next):\n",
      "HTTP Error 404: Not Found\n",
      "\n",
      "Downloading https://ossci-datasets.s3.amazonaws.com/mnist/train-labels-idx1-ubyte.gz\n",
      "Downloading https://ossci-datasets.s3.amazonaws.com/mnist/train-labels-idx1-ubyte.gz to /home/student/.pytorch/MNIST_data/MNIST/raw/train-labels-idx1-ubyte.gz\n"
     ]
    },
    {
     "name": "stderr",
     "output_type": "stream",
     "text": [
      "100%|██████████| 28881/28881 [00:00<00:00, 989339.30it/s]"
     ]
    },
    {
     "name": "stdout",
     "output_type": "stream",
     "text": [
      "Extracting /home/student/.pytorch/MNIST_data/MNIST/raw/train-labels-idx1-ubyte.gz to /home/student/.pytorch/MNIST_data/MNIST/raw\n",
      "\n",
      "Downloading http://yann.lecun.com/exdb/mnist/t10k-images-idx3-ubyte.gz\n"
     ]
    },
    {
     "name": "stderr",
     "output_type": "stream",
     "text": [
      "\n"
     ]
    },
    {
     "name": "stdout",
     "output_type": "stream",
     "text": [
      "Failed to download (trying next):\n",
      "HTTP Error 404: Not Found\n",
      "\n",
      "Downloading https://ossci-datasets.s3.amazonaws.com/mnist/t10k-images-idx3-ubyte.gz\n",
      "Downloading https://ossci-datasets.s3.amazonaws.com/mnist/t10k-images-idx3-ubyte.gz to /home/student/.pytorch/MNIST_data/MNIST/raw/t10k-images-idx3-ubyte.gz\n"
     ]
    },
    {
     "name": "stderr",
     "output_type": "stream",
     "text": [
      "100%|██████████| 1648877/1648877 [00:00<00:00, 7136553.64it/s]\n"
     ]
    },
    {
     "name": "stdout",
     "output_type": "stream",
     "text": [
      "Extracting /home/student/.pytorch/MNIST_data/MNIST/raw/t10k-images-idx3-ubyte.gz to /home/student/.pytorch/MNIST_data/MNIST/raw\n",
      "\n",
      "Downloading http://yann.lecun.com/exdb/mnist/t10k-labels-idx1-ubyte.gz\n",
      "Failed to download (trying next):\n",
      "HTTP Error 404: Not Found\n",
      "\n",
      "Downloading https://ossci-datasets.s3.amazonaws.com/mnist/t10k-labels-idx1-ubyte.gz\n",
      "Downloading https://ossci-datasets.s3.amazonaws.com/mnist/t10k-labels-idx1-ubyte.gz to /home/student/.pytorch/MNIST_data/MNIST/raw/t10k-labels-idx1-ubyte.gz\n"
     ]
    },
    {
     "name": "stderr",
     "output_type": "stream",
     "text": [
      "100%|██████████| 4542/4542 [00:00<00:00, 3863420.96it/s]"
     ]
    },
    {
     "name": "stdout",
     "output_type": "stream",
     "text": [
      "Extracting /home/student/.pytorch/MNIST_data/MNIST/raw/t10k-labels-idx1-ubyte.gz to /home/student/.pytorch/MNIST_data/MNIST/raw\n",
      "\n"
     ]
    },
    {
     "name": "stderr",
     "output_type": "stream",
     "text": [
      "\n"
     ]
    }
   ],
   "source": [
    "### Run this cell\n",
    "\n",
    "from torchvision import datasets, transforms\n",
    "\n",
    "# Define a transform to normalize the data\n",
    "transform = transforms.Compose([transforms.ToTensor(),\n",
    "                              transforms.Normalize((0.5,), (0.5,)),\n",
    "                              ])\n",
    "\n",
    "# Download and load the training data\n",
    "trainset = datasets.MNIST('~/.pytorch/MNIST_data/', download=True, train=True, transform=transform)\n",
    "trainloader = torch.utils.data.DataLoader(trainset, batch_size=64, shuffle=True)"
   ]
  },
  {
   "cell_type": "markdown",
   "metadata": {},
   "source": [
    "我们将训练数据加载到 `trainloader` 中，并使用 `iter(trainloader)` 使其变成迭代器。之后，我们将用它循环访问数据集以进行训练，例如"
   ]
  },
  {
   "cell_type": "code",
   "execution_count": 3,
   "metadata": {},
   "outputs": [
    {
     "ename": "SyntaxError",
     "evalue": "incomplete input (153283872.py, line 2)",
     "output_type": "error",
     "traceback": [
      "\u001b[0;36m  Cell \u001b[0;32mIn[3], line 2\u001b[0;36m\u001b[0m\n\u001b[0;31m    ## do things with images and labels\u001b[0m\n\u001b[0m                                       ^\u001b[0m\n\u001b[0;31mSyntaxError\u001b[0m\u001b[0;31m:\u001b[0m incomplete input\n"
     ]
    }
   ],
   "source": [
    "for image, label in trainloader:\n",
    "    ## do things with images and labels"
   ]
  },
  {
   "cell_type": "markdown",
   "metadata": {},
   "source": [
    "我在创建 `trainloader` 时，将批次大小设为 64，并设置为 `shuffle=True`。批次大小是指我们在一次迭代中从数据加载器获取并经过网络的图像数量。`shuffle=True` 表示每次重新访问数据加载器时，随机重排数据集。但是现在我仅获取第一批数据，以便查看数据。从下方可以看出，`images` 是一个张量，大小为 `(64, 1, 28, 28)`。因此，每批有 64 个图像，图像有 1 个颜色通道，共有 28x28 个图像。"
   ]
  },
  {
   "cell_type": "code",
   "execution_count": 3,
   "metadata": {},
   "outputs": [
    {
     "name": "stdout",
     "output_type": "stream",
     "text": [
      "<class 'torch.Tensor'>\n",
      "torch.Size([64, 1, 28, 28])\n",
      "torch.Size([64])\n"
     ]
    }
   ],
   "source": [
    "dataiter = iter(trainloader)\n",
    "images, labels = next(dataiter)\n",
    "print(type(images))\n",
    "print(images.shape)\n",
    "print(labels.shape)"
   ]
  },
  {
   "cell_type": "markdown",
   "metadata": {},
   "source": [
    "下面是一个图像示例。"
   ]
  },
  {
   "cell_type": "code",
   "execution_count": 4,
   "metadata": {},
   "outputs": [
    {
     "data": {
      "image/png": "[encoded data removed]",
      "text/plain": [
       "<Figure size 640x480 with 1 Axes>"
      ]
     },
     "metadata": {
      "image/png": {
       "height": 413,
       "width": 417
      }
     },
     "output_type": "display_data"
    }
   ],
   "source": [
    "plt.imshow(images[1].numpy().squeeze(), cmap='Greys_r');"
   ]
  },
  {
   "cell_type": "markdown",
   "metadata": {},
   "source": [
    "首先，我们要使用权重矩阵和矩阵乘法，用此数据集构建一个简单的网络。然后，我们将学习如何使用 PyTorch 的 `nn` 模块构建该网络。\n",
    "\n",
    "神经网络又称为*全连接*或*密集*网络。一个层级中的每个单元都与下个层级中的每个单元相连。在全连接网络中，每个层级的输入必须是一维向量（可以作为一批样本堆叠为二维张量）。但是，我们的图像是 28x28 二维张量，因此我们需要将其转换为一维向量。考虑到大小问题，我们需要将形状为 `(64, 1, 28, 28)` 的批次图像变形为 `(64, 784)`，784 等于 28 x 28。这一步通常称为*扁平化*，我们将二维图像扁平化为一维向量。\n",
    "\n",
    "之前，我们试过了构建具有一个输出单元的简单网络。现在，我们需要 10 个输出单元，每个数字对应一个单元。如果要预测出图像中显示的数字，我们必须计算该图像属于任何数字或类别的概率。我们会得到一个离散概率分布，告诉我们图像最有可能属于哪个类别。这就是说，我们需要 10 个输出单元，对应 10 个类别（数字）。下面讲解如何将网络输出转换为概率分布。\n",
    "\n",
    "> **练习：**将 `images`扁平化。然后构建一个多层网络，有 784 个输入单元、256 个隐藏单元和 10 个输出单元，并对权重和偏差使用随机张量。目前，我们对隐藏层使用 S 型激活函数。输出层暂时不需要激活函数，下一步我们将添加计算概率分布的激活函数。"
   ]
  },
  {
   "cell_type": "code",
   "execution_count": 5,
   "metadata": {},
   "outputs": [
    {
     "name": "stdout",
     "output_type": "stream",
     "text": [
      "tensor([[1.2046e-02, 1.0000e+00, 1.1173e-01, 4.3909e-04, 5.3440e-03, 9.9962e-01,\n",
      "         7.3143e-03, 9.9969e-01, 8.0418e-01, 9.9234e-01],\n",
      "        [5.1703e-04, 1.0000e+00, 9.9997e-01, 9.1567e-03, 5.4641e-03, 8.4164e-01,\n",
      "         8.9423e-06, 9.9999e-01, 9.9996e-01, 1.0000e+00],\n",
      "        [1.3259e-01, 1.0000e+00, 9.9998e-01, 1.7409e-04, 1.2847e-01, 9.9941e-01,\n",
      "         3.6023e-04, 1.0000e+00, 9.9986e-01, 9.9593e-01],\n",
      "        [9.4487e-08, 1.0000e+00, 9.9616e-01, 3.0459e-02, 1.3685e-01, 6.5794e-02,\n",
      "         8.3145e-01, 1.0000e+00, 9.8579e-01, 9.9996e-01],\n",
      "        [1.8971e-03, 1.0000e+00, 9.9993e-01, 6.2620e-01, 2.2766e-02, 9.9564e-01,\n",
      "         9.6595e-02, 1.0000e+00, 9.9955e-01, 9.9864e-01],\n",
      "        [2.4814e-04, 1.0000e+00, 9.7263e-01, 5.0534e-01, 8.9650e-01, 9.9642e-01,\n",
      "         4.4284e-05, 9.9997e-01, 3.1309e-01, 9.9969e-01],\n",
      "        [8.9932e-01, 1.0000e+00, 9.1903e-01, 1.1188e-01, 8.5835e-01, 5.2933e-03,\n",
      "         9.9158e-01, 1.0000e+00, 9.9989e-01, 9.9997e-01],\n",
      "        [4.4029e-04, 1.0000e+00, 9.9104e-01, 6.9461e-01, 2.7407e-05, 9.9998e-01,\n",
      "         3.2117e-02, 1.0000e+00, 9.9982e-01, 8.2573e-01],\n",
      "        [7.1792e-01, 1.0000e+00, 9.9976e-01, 6.5180e-04, 4.9686e-02, 1.0000e+00,\n",
      "         5.3562e-05, 1.0000e+00, 9.9990e-01, 1.0000e+00],\n",
      "        [9.9382e-03, 1.0000e+00, 1.4463e-02, 9.4321e-01, 3.8620e-04, 9.9420e-01,\n",
      "         4.1361e-05, 1.0000e+00, 9.6522e-01, 9.3687e-01],\n",
      "        [1.7941e-02, 1.0000e+00, 9.9965e-01, 8.5615e-03, 8.5596e-07, 1.0000e+00,\n",
      "         2.9436e-03, 1.0000e+00, 8.2315e-02, 9.9982e-01],\n",
      "        [5.7510e-02, 1.0000e+00, 9.9148e-01, 1.2060e-01, 6.8695e-05, 9.9121e-01,\n",
      "         5.8317e-07, 1.0000e+00, 9.5922e-01, 8.8029e-01],\n",
      "        [4.6326e-02, 1.0000e+00, 9.8331e-01, 9.9972e-01, 3.0300e-02, 9.9999e-01,\n",
      "         6.9484e-01, 1.0000e+00, 9.9961e-01, 4.0356e-03],\n",
      "        [9.9723e-01, 1.0000e+00, 8.9323e-01, 2.9309e-06, 2.6741e-05, 6.6205e-01,\n",
      "         9.3708e-03, 1.0000e+00, 9.8340e-01, 9.9992e-01],\n",
      "        [4.6251e-04, 1.0000e+00, 9.9963e-01, 7.5993e-02, 9.5015e-01, 9.9858e-01,\n",
      "         4.1376e-04, 9.9989e-01, 3.8730e-01, 9.9088e-01],\n",
      "        [7.0871e-01, 1.0000e+00, 9.9999e-01, 9.9768e-01, 8.3727e-01, 9.9536e-01,\n",
      "         9.1790e-01, 1.0000e+00, 9.9993e-01, 9.9997e-01],\n",
      "        [9.9999e-01, 1.0000e+00, 3.3559e-02, 9.9986e-01, 7.2362e-03, 9.9820e-01,\n",
      "         3.1859e-03, 1.0000e+00, 1.0000e+00, 9.9967e-01],\n",
      "        [9.4408e-01, 1.0000e+00, 3.0685e-02, 7.7322e-05, 1.3034e-05, 9.8019e-01,\n",
      "         1.9255e-01, 9.9990e-01, 1.0000e+00, 9.9957e-01],\n",
      "        [2.0570e-01, 1.0000e+00, 3.1515e-03, 9.7758e-01, 5.6491e-01, 9.9998e-01,\n",
      "         2.1547e-05, 1.0000e+00, 1.0000e+00, 9.6730e-01],\n",
      "        [4.0413e-01, 1.0000e+00, 8.2705e-03, 1.7260e-05, 6.2742e-05, 9.9651e-01,\n",
      "         3.5988e-03, 1.0000e+00, 9.9962e-01, 1.0000e+00],\n",
      "        [9.8718e-01, 1.0000e+00, 9.9794e-01, 1.9565e-01, 1.1026e-02, 9.7408e-01,\n",
      "         6.4613e-06, 1.0000e+00, 6.6498e-03, 2.9132e-01],\n",
      "        [4.3855e-01, 1.0000e+00, 5.8910e-05, 6.9323e-01, 1.7950e-02, 9.9980e-01,\n",
      "         5.9314e-02, 1.0000e+00, 9.9999e-01, 9.9514e-01],\n",
      "        [1.8314e-03, 1.0000e+00, 2.1745e-01, 8.7598e-01, 1.0000e+00, 1.6712e-01,\n",
      "         1.5512e-01, 9.6334e-01, 9.9859e-01, 1.0000e+00],\n",
      "        [8.3097e-04, 1.0000e+00, 8.6287e-01, 9.9477e-01, 1.2844e-01, 9.9506e-01,\n",
      "         4.7536e-02, 1.0000e+00, 7.9953e-01, 6.8099e-01],\n",
      "        [7.5201e-01, 1.0000e+00, 9.9994e-01, 2.1754e-02, 9.6974e-01, 9.5919e-01,\n",
      "         4.9849e-04, 1.0000e+00, 5.6876e-01, 9.9751e-01],\n",
      "        [9.0595e-01, 1.0000e+00, 2.4484e-02, 1.3499e-01, 5.2771e-05, 9.9999e-01,\n",
      "         5.3427e-04, 1.0000e+00, 9.5122e-01, 9.9966e-01],\n",
      "        [2.6097e-02, 1.0000e+00, 4.8426e-03, 6.7579e-05, 7.3767e-04, 7.6688e-01,\n",
      "         2.2302e-03, 1.0000e+00, 9.9878e-01, 9.9873e-01],\n",
      "        [8.0472e-01, 1.0000e+00, 4.2059e-03, 8.6376e-01, 9.9655e-01, 1.5348e-01,\n",
      "         1.7835e-02, 1.0000e+00, 1.0000e+00, 9.9991e-01],\n",
      "        [9.5593e-01, 1.0000e+00, 9.9825e-01, 5.2579e-01, 7.0644e-05, 9.0886e-01,\n",
      "         8.1075e-08, 1.0000e+00, 1.0000e+00, 9.6647e-01],\n",
      "        [2.5911e-05, 1.0000e+00, 9.9913e-01, 8.4286e-03, 4.4293e-06, 9.9997e-01,\n",
      "         9.2426e-05, 1.0000e+00, 9.9934e-01, 9.9593e-01],\n",
      "        [4.4848e-02, 1.0000e+00, 9.9993e-01, 9.8445e-01, 4.8794e-04, 9.9919e-01,\n",
      "         8.2044e-03, 1.0000e+00, 5.2625e-01, 4.5434e-03],\n",
      "        [1.2780e-02, 1.0000e+00, 9.9894e-01, 1.5619e-01, 8.8840e-01, 9.9394e-01,\n",
      "         1.8306e-01, 9.9989e-01, 9.2923e-01, 9.9980e-01],\n",
      "        [7.7133e-01, 1.0000e+00, 9.9990e-01, 2.8454e-03, 2.6843e-02, 1.1398e-01,\n",
      "         1.8549e-03, 1.0000e+00, 1.0000e+00, 9.0011e-01],\n",
      "        [6.7543e-03, 1.0000e+00, 6.4677e-01, 9.9991e-01, 9.9339e-01, 9.9998e-01,\n",
      "         9.6776e-01, 1.0000e+00, 9.9500e-01, 9.7683e-01],\n",
      "        [1.1393e-02, 1.0000e+00, 9.9201e-01, 9.9991e-01, 2.7676e-01, 1.0000e+00,\n",
      "         5.3228e-01, 9.9772e-01, 1.0000e+00, 9.8669e-01],\n",
      "        [1.5982e-01, 1.0000e+00, 8.8080e-01, 5.2804e-01, 7.8733e-01, 1.0000e+00,\n",
      "         6.3479e-03, 9.9996e-01, 9.9971e-01, 4.1042e-01],\n",
      "        [3.5232e-02, 1.0000e+00, 1.8990e-02, 9.9748e-01, 2.8089e-04, 1.0000e+00,\n",
      "         3.6009e-06, 1.0000e+00, 9.9968e-01, 9.9942e-01],\n",
      "        [9.1510e-08, 1.0000e+00, 9.9992e-01, 3.4246e-02, 1.8247e-01, 1.0000e+00,\n",
      "         3.1217e-01, 1.0000e+00, 9.9998e-01, 7.6545e-01],\n",
      "        [9.3434e-07, 1.0000e+00, 9.9940e-01, 2.2616e-03, 1.2780e-02, 1.0000e+00,\n",
      "         9.4196e-02, 1.0000e+00, 8.8948e-01, 8.1989e-01],\n",
      "        [1.1582e-04, 1.0000e+00, 9.9987e-01, 2.4396e-02, 1.8566e-01, 9.9219e-01,\n",
      "         2.2326e-01, 1.0000e+00, 1.0000e+00, 9.9731e-01],\n",
      "        [1.2141e-03, 1.0000e+00, 9.9999e-01, 9.9918e-01, 1.2849e-01, 9.9993e-01,\n",
      "         5.4674e-04, 9.9997e-01, 9.9999e-01, 9.3952e-01],\n",
      "        [9.9994e-01, 1.0000e+00, 8.8404e-01, 9.6277e-01, 3.2600e-02, 9.9999e-01,\n",
      "         6.9746e-02, 1.0000e+00, 9.3178e-01, 9.9996e-01],\n",
      "        [8.6440e-07, 1.0000e+00, 9.9699e-01, 1.0000e+00, 1.0468e-01, 9.5987e-01,\n",
      "         1.6218e-02, 9.9995e-01, 1.0000e+00, 9.9943e-01],\n",
      "        [2.7915e-04, 1.0000e+00, 1.2727e-01, 1.5495e-04, 1.6980e-03, 9.9974e-01,\n",
      "         8.0472e-05, 1.0000e+00, 9.8902e-01, 9.8887e-01],\n",
      "        [2.5032e-03, 1.0000e+00, 3.5945e-02, 9.8932e-01, 6.8176e-01, 8.4095e-01,\n",
      "         3.8686e-05, 1.0000e+00, 9.9956e-01, 9.9996e-01],\n",
      "        [6.7080e-07, 1.0000e+00, 9.3026e-01, 9.8976e-01, 1.4815e-01, 9.9924e-01,\n",
      "         2.8144e-04, 1.0000e+00, 9.9996e-01, 9.8032e-01],\n",
      "        [5.3480e-01, 1.0000e+00, 9.8764e-01, 6.7122e-02, 1.0556e-02, 9.2525e-01,\n",
      "         1.3544e-04, 1.0000e+00, 1.0000e+00, 3.4459e-04],\n",
      "        [8.2313e-01, 1.0000e+00, 4.0682e-02, 3.4087e-01, 3.7463e-01, 9.9966e-01,\n",
      "         6.0562e-05, 1.0000e+00, 9.9994e-01, 9.8975e-01],\n",
      "        [3.5849e-02, 1.0000e+00, 9.5252e-01, 1.3570e-02, 1.5195e-03, 9.9997e-01,\n",
      "         6.8188e-05, 1.0000e+00, 8.7424e-01, 9.9723e-01],\n",
      "        [3.5595e-07, 1.0000e+00, 9.8055e-01, 1.1572e-01, 2.1171e-01, 1.0000e+00,\n",
      "         1.9045e-04, 1.0000e+00, 1.9441e-01, 9.9803e-01],\n",
      "        [5.4670e-01, 1.0000e+00, 1.7248e-01, 7.3244e-03, 2.4440e-01, 2.7178e-01,\n",
      "         8.7833e-07, 1.0000e+00, 9.9939e-01, 9.8984e-01],\n",
      "        [9.6763e-01, 1.0000e+00, 9.8854e-01, 9.9929e-01, 2.7430e-02, 3.9971e-03,\n",
      "         6.7202e-08, 1.0000e+00, 1.0000e+00, 9.9998e-01],\n",
      "        [1.2658e-03, 1.0000e+00, 1.1238e-01, 2.8315e-04, 3.0315e-02, 9.3349e-01,\n",
      "         7.8635e-04, 1.0000e+00, 9.9313e-01, 5.8113e-01],\n",
      "        [9.9951e-01, 1.0000e+00, 2.1092e-02, 1.1027e-05, 7.6467e-04, 3.9050e-01,\n",
      "         3.5059e-04, 1.0000e+00, 9.9151e-01, 9.9115e-01],\n",
      "        [1.2054e-03, 1.0000e+00, 1.2989e-01, 2.0085e-01, 3.4988e-02, 9.9732e-01,\n",
      "         1.2680e-04, 1.0000e+00, 9.3750e-01, 7.3566e-01],\n",
      "        [9.9720e-01, 1.0000e+00, 9.6467e-01, 5.6774e-04, 6.3340e-05, 9.9998e-01,\n",
      "         7.5473e-06, 1.0000e+00, 9.7320e-01, 9.9079e-01],\n",
      "        [2.5201e-02, 1.0000e+00, 1.0000e+00, 2.7435e-03, 3.2365e-04, 9.9985e-01,\n",
      "         3.7521e-03, 1.0000e+00, 9.9950e-01, 9.9999e-01],\n",
      "        [1.3982e-07, 1.0000e+00, 9.9910e-01, 5.3514e-02, 2.5912e-04, 9.9986e-01,\n",
      "         2.0940e-04, 1.0000e+00, 2.1744e-02, 5.7062e-01],\n",
      "        [2.5682e-03, 1.0000e+00, 1.9597e-03, 3.2518e-01, 2.2525e-04, 7.0132e-01,\n",
      "         1.0022e-02, 1.0000e+00, 1.0000e+00, 9.2253e-03],\n",
      "        [9.3964e-01, 1.0000e+00, 9.6859e-01, 9.9945e-01, 1.4140e-03, 9.7937e-01,\n",
      "         2.4023e-03, 1.0000e+00, 1.0000e+00, 9.5475e-01],\n",
      "        [2.9353e-01, 1.0000e+00, 8.6043e-01, 7.0504e-06, 1.2541e-04, 1.0000e+00,\n",
      "         3.0404e-01, 5.6379e-02, 9.9679e-01, 1.0000e+00],\n",
      "        [9.9125e-01, 1.0000e+00, 9.9978e-01, 1.8054e-04, 9.8590e-01, 9.8864e-01,\n",
      "         5.1787e-06, 9.9976e-01, 1.0000e+00, 4.4605e-03],\n",
      "        [2.2506e-03, 1.0000e+00, 1.4860e-01, 9.4653e-01, 3.6117e-03, 9.9999e-01,\n",
      "         1.8671e-06, 1.0000e+00, 9.9804e-01, 1.0000e+00],\n",
      "        [9.2302e-01, 1.0000e+00, 5.2600e-01, 4.1549e-02, 2.4231e-03, 1.0000e+00,\n",
      "         8.9419e-08, 1.0000e+00, 9.9659e-01, 9.9999e-01]])\n"
     ]
    }
   ],
   "source": [
    "## Your solution\n",
    "def sigmoid(x):\n",
    "    return 1/(1 + torch.exp(-x))\n",
    "\n",
    "inputs  = images.view(images.shape[0], -1)\n",
    "\n",
    "w1 = torch.randn(784,256)\n",
    "w2 = torch.randn(256,10)\n",
    "b1 = torch.randn(256)\n",
    "b2 = torch.randn(10)\n",
    "output = sigmoid(torch.mm(sigmoid(torch.mm(inputs, w1)+b1), w2)+b2)# output of your network, should have shape (64,10)\n",
    "print(output)"
   ]
  },
  {
   "cell_type": "markdown",
   "metadata": {},
   "source": [
    "现在网络有 10 个输出了。我们向网络中传入一个图像，并获得类别概率分布，告诉我们图像最有可能属于哪个数字/类别。结果如下所示：\n",
    "<img src='assets/image_distribution.png' width=500px>\n",
    "\n",
    "可以看出每个类别的概率大致相等。这是未训练网络的结果，网络尚未见过任何数据，因此返回均匀分布，每个类别的概率相等。\n",
    "\n",
    "可以用 [**softmax** 函数]计算概率分布(https://en.wikipedia.org/wiki/Softmax_function)。数学公式为：\n",
    "\n",
    "$$\n",
    "\\Large \\sigma(x_i) = \\cfrac{e^{x_i}}{\\sum_k^K{e^{x_k}}}\n",
    "$$\n",
    "\n",
    "它会将每个输入 $x_i$ 都缩放到 0 和 1 之间并标准化值，得出标准概率分布，其中概率总和是 1。\n",
    "\n",
    "> **练习：**实现一个进行 softmax 运算的函数 `softmax` ，并针对批次中的每个样本返回概率分布。注意，在运算时需要注意形状。如果有一个张量 `a` 的形状为 `(64, 10)`，另一个张量 `b` 的形状为 `(64,)`，进行 `a/b` 运算将出错，因为 PyTorch 会对列进行除法运算（称为广播），但是大小不匹配。提示：对于 64 个样本中的每个样本，你可以除以一个值，即分母中的和。因此需要使 `b` 变形为 `(64, 1)`。这样的话，PyTorch 将使 `a` 中每行的10 个值除以 `b` 中每行的一个值。另外，要注意求和的方式。你要在 `torch.sum` 中定义 `dim` 。 `dim=0` 会对行求和，而 `dim=1` 会对列求和。"
   ]
  },
  {
   "cell_type": "code",
   "execution_count": 6,
   "metadata": {},
   "outputs": [
    {
     "name": "stdout",
     "output_type": "stream",
     "text": [
      "torch.Size([64, 10])\n",
      "tensor([1.0000, 1.0000, 1.0000, 1.0000, 1.0000, 1.0000, 1.0000, 1.0000, 1.0000,\n",
      "        1.0000, 1.0000, 1.0000, 1.0000, 1.0000, 1.0000, 1.0000, 1.0000, 1.0000,\n",
      "        1.0000, 1.0000, 1.0000, 1.0000, 1.0000, 1.0000, 1.0000, 1.0000, 1.0000,\n",
      "        1.0000, 1.0000, 1.0000, 1.0000, 1.0000, 1.0000, 1.0000, 1.0000, 1.0000,\n",
      "        1.0000, 1.0000, 1.0000, 1.0000, 1.0000, 1.0000, 1.0000, 1.0000, 1.0000,\n",
      "        1.0000, 1.0000, 1.0000, 1.0000, 1.0000, 1.0000, 1.0000, 1.0000, 1.0000,\n",
      "        1.0000, 1.0000, 1.0000, 1.0000, 1.0000, 1.0000, 1.0000, 1.0000, 1.0000,\n",
      "        1.0000])\n"
     ]
    }
   ],
   "source": [
    "def softmax(x):\n",
    "    ## TODO: Implement the softmax function here\n",
    "    exp_x = torch.exp(x)\n",
    "    return exp_x / exp_x.sum(dim=1, keepdim=True)\n",
    "\n",
    "# Here, out should be the output of the network in the previous excercise with shape (64,10)\n",
    "probabilities = softmax(output)\n",
    "\n",
    "# Does it have the right shape? Should be (64, 10)\n",
    "print(probabilities.shape)\n",
    "# Does it sum to 1?\n",
    "print(probabilities.sum(dim=1))"
   ]
  },
  {
   "cell_type": "markdown",
   "metadata": {},
   "source": [
    "## 通过 PyTorch 构建网络\n",
    "\n",
    "PyTorch 提供了`nn`模块，大大地简化了网络构建过程。我将演示如何构建上述同一个网络，即包含 784 个输入、256 个隐藏单元、10 个输出单元和一个 softmax 输出。"
   ]
  },
  {
   "cell_type": "code",
   "execution_count": 7,
   "metadata": {},
   "outputs": [],
   "source": [
    "from torch import nn"
   ]
  },
  {
   "cell_type": "code",
   "execution_count": 8,
   "metadata": {},
   "outputs": [],
   "source": [
    "class Network(nn.Module):\n",
    "    def __init__(self):\n",
    "        super().__init__()\n",
    "        \n",
    "        # Inputs to hidden layer linear transformation\n",
    "        self.hidden = nn.Linear(784, 256)\n",
    "        # Output layer, 10 units - one for each digit\n",
    "        self.output = nn.Linear(256, 10)\n",
    "        \n",
    "        # Define sigmoid activation and softmax output \n",
    "        self.sigmoid = nn.Sigmoid()\n",
    "        self.softmax = nn.Softmax(dim=1)\n",
    "        \n",
    "    def forward(self, x):\n",
    "        # Pass the input tensor through each of our operations\n",
    "        x = self.hidden(x)\n",
    "        x = self.sigmoid(x)\n",
    "        x = self.output(x)\n",
    "        x = self.softmax(x)\n",
    "        \n",
    "        return x"
   ]
  },
  {
   "cell_type": "markdown",
   "metadata": {},
   "source": [
    "分步讲解。"
   ]
  },
  {
   "cell_type": "code",
   "execution_count": 15,
   "metadata": {},
   "outputs": [
    {
     "ename": "SyntaxError",
     "evalue": "incomplete input (2511390034.py, line 1)",
     "output_type": "error",
     "traceback": [
      "\u001b[0;36m  Cell \u001b[0;32mIn[15], line 1\u001b[0;36m\u001b[0m\n\u001b[0;31m    class Network(nn.Module):\u001b[0m\n\u001b[0m                             ^\u001b[0m\n\u001b[0;31mSyntaxError\u001b[0m\u001b[0;31m:\u001b[0m incomplete input\n"
     ]
    }
   ],
   "source": [
    "class Network(nn.Module):"
   ]
  },
  {
   "cell_type": "markdown",
   "metadata": {},
   "source": [
    "先继承 `nn.Module`。与 `super().__init__()` 相结合，创建一个跟踪架构的类，并提供大量有用的方法和属性。注意，在为网络创建类时，必须继承 `nn.Module`。类可以随意命名。"
   ]
  },
  {
   "cell_type": "code",
   "execution_count": null,
   "metadata": {},
   "outputs": [],
   "source": [
    "self.hidden = nn.Linear(784, 256)"
   ]
  },
  {
   "cell_type": "markdown",
   "metadata": {},
   "source": [
    "这行创建一个线性转换模块 $x\\mathbf{W} + b$，其中有 784 个输入和 256 个输出，并赋值给 `self.hidden`。该模块会自动创建权重和偏差张量，供我们在 `forward` 方法中使用。创建网络 (`net`) 后，你可以使用 `net.hidden.weight` 和 `net.hidden.bias` 访问权重和偏差张量。"
   ]
  },
  {
   "cell_type": "code",
   "execution_count": null,
   "metadata": {},
   "outputs": [],
   "source": [
    "self.output = nn.Linear(256, 10)"
   ]
  },
  {
   "cell_type": "markdown",
   "metadata": {},
   "source": [
    "同样，这里会创建另一个有 256 个输入和 10 个输出的线性转换。"
   ]
  },
  {
   "cell_type": "code",
   "execution_count": null,
   "metadata": {},
   "outputs": [],
   "source": [
    "self.sigmoid = nn.Sigmoid()\n",
    "self.softmax = nn.Softmax(dim=1)"
   ]
  },
  {
   "cell_type": "markdown",
   "metadata": {},
   "source": [
    "然后，我定义了 S 型激活函数和 softmax 输出的运算。在 `nn.Softmax(dim=1)` 中设置 `dim=1` 会计算各个列的 softmax 值。"
   ]
  },
  {
   "cell_type": "code",
   "execution_count": null,
   "metadata": {},
   "outputs": [],
   "source": [
    "def forward(self, x):"
   ]
  },
  {
   "cell_type": "markdown",
   "metadata": {},
   "source": [
    "用 `nn.Module` 创建的 PyTorch 网络必须定义 `forward` 方法。它会接受一个张量 `x` 并将其传入你在 `__init__` 方法中定义的运算。"
   ]
  },
  {
   "cell_type": "code",
   "execution_count": null,
   "metadata": {},
   "outputs": [],
   "source": [
    "x = self.hidden(x)\n",
    "x = self.sigmoid(x)\n",
    "x = self.output(x)\n",
    "x = self.softmax(x)"
   ]
  },
  {
   "cell_type": "markdown",
   "metadata": {},
   "source": [
    "我们将输入张量 `x` 传入重新赋值给 `x` 的每个运算。可以看出输入张量经过隐藏层，然后经过 S 型函数、输出层，最终经过 softmax 函数。.变量可以命名为任何名称，只要运算的输入和输出与你要构建的网络架构匹配即可。你在 `__init__` 方法中的定义顺序不重要，但是需要在 `forward` 方法中正确地设定运算顺序。\n",
    "\n",
    "现在我们可以创建一个 `Network` 对象。"
   ]
  },
  {
   "cell_type": "code",
   "execution_count": 9,
   "metadata": {},
   "outputs": [
    {
     "data": {
      "text/plain": [
       "Network(\n",
       "  (hidden): Linear(in_features=784, out_features=256, bias=True)\n",
       "  (output): Linear(in_features=256, out_features=10, bias=True)\n",
       "  (sigmoid): Sigmoid()\n",
       "  (softmax): Softmax(dim=1)\n",
       ")"
      ]
     },
     "execution_count": 9,
     "metadata": {},
     "output_type": "execute_result"
    }
   ],
   "source": [
    "# Create the network and look at it's text representation\n",
    "model = Network()\n",
    "model"
   ]
  },
  {
   "cell_type": "markdown",
   "metadata": {},
   "source": [
    "你可以使用 `torch.nn.functional` 模块来更简练清晰地定义网络。这是最常见的网络定义方式，因为很多运算是简单的元素级函数。我们通常将此模块导入为 `F`，即 `import torch.nn.functional as F`。"
   ]
  },
  {
   "cell_type": "code",
   "execution_count": 10,
   "metadata": {},
   "outputs": [],
   "source": [
    "import torch.nn.functional as F\n",
    "\n",
    "class Network(nn.Module):\n",
    "    def __init__(self):\n",
    "        super().__init__()\n",
    "        # Inputs to hidden layer linear transformation\n",
    "        self.hidden = nn.Linear(784, 256)\n",
    "        # Output layer, 10 units - one for each digit\n",
    "        self.output = nn.Linear(256, 10)\n",
    "        \n",
    "    def forward(self, x):\n",
    "        # Hidden layer with sigmoid activation\n",
    "        x = F.sigmoid(self.hidden(x))\n",
    "        # Output layer with softmax activation\n",
    "        x = F.softmax(self.output(x), dim=1)\n",
    "        \n",
    "        return x"
   ]
  },
  {
   "cell_type": "markdown",
   "metadata": {},
   "source": [
    "### 激活函数\n",
    "\n",
    "到目前为止，我们只学习了 softmax 激活函数，但是通常任何函数都可以用作激活函数。但是，要使网络能逼近非线性函数，激活函数必须是非线性函数。下面是一些常见的激活函数示例：Tanh（双曲正切）和 ReLU（修正线性单元）。\n",
    "\n",
    "<img src=\"assets/activation.png\" width=700px>\n",
    "\n",
    "在实践中，ReLU 几乎一直用作隐藏层激活函数。\n",
    "\n",
    "### 构建神经网络\n",
    "\n",
    "<img src=\"assets/mlp_mnist.png\" width=600px>\n",
    "\n",
    "> **练习：**请创建如下网络：输入层有 784 个单元，然后是有 128 个单元的隐藏层和一个 ReLU 激活函数，接着是有 64 个单元的隐藏层和一个 ReLU 激活函数，最终是一个应用 softmax 激活函数的输出层（如上所示）。你可以通过 `nn.ReLU` 模块或 `F.relu` 函数应用 ReLU 激活函数。"
   ]
  },
  {
   "cell_type": "code",
   "execution_count": 14,
   "metadata": {},
   "outputs": [
    {
     "data": {
      "text/plain": [
       "Model(\n",
       "  (hidden1): Linear(in_features=784, out_features=256, bias=True)\n",
       "  (hidden2): Linear(in_features=256, out_features=64, bias=True)\n",
       "  (output): Linear(in_features=64, out_features=10, bias=True)\n",
       ")"
      ]
     },
     "execution_count": 14,
     "metadata": {},
     "output_type": "execute_result"
    }
   ],
   "source": [
    "## Your solution here\n",
    "class Model(nn.Module):\n",
    "    def __init__(self):\n",
    "        super().__init__()\n",
    "        # Inputs to hidden layer linear transformation\n",
    "        self.hidden1 = nn.Linear(784, 256)\n",
    "        self.hidden2 = nn.Linear(256,64)\n",
    "        # Output layer, 10 units - one for each digit\n",
    "        self.output = nn.Linear(64, 10)\n",
    "        \n",
    "    def forward(self, x):\n",
    "        x = self.hidden1(x)\n",
    "        x = F.relu(x)\n",
    "        x = self.hidden2(x)\n",
    "        x = F.relu(x)\n",
    "        x = self.output(x)\n",
    "        x = F.softmax(x, dim=1)\n",
    "        \n",
    "        return x\n",
    "\n",
    "model = Model()\n",
    "model"
   ]
  },
  {
   "cell_type": "markdown",
   "metadata": {},
   "source": [
    "### 初始化权重和偏差\n",
    "\n",
    "权重和偏差会自动初始化，但是你可以自定义它们的初始化方式。权重和偏差是附加到所定义层级上的张量，例如，你可以通过 `model.fc1.weight` 获取权重。"
   ]
  },
  {
   "cell_type": "code",
   "execution_count": 16,
   "metadata": {},
   "outputs": [
    {
     "name": "stdout",
     "output_type": "stream",
     "text": [
      "Parameter containing:\n",
      "tensor([[-0.0024, -0.0237, -0.0030,  ...,  0.0114,  0.0067,  0.0354],\n",
      "        [ 0.0256,  0.0109,  0.0087,  ...,  0.0345, -0.0293, -0.0344],\n",
      "        [-0.0065,  0.0140, -0.0066,  ...,  0.0341,  0.0302,  0.0307],\n",
      "        ...,\n",
      "        [ 0.0312,  0.0173,  0.0352,  ...,  0.0100,  0.0329,  0.0340],\n",
      "        [ 0.0249,  0.0285, -0.0165,  ...,  0.0142, -0.0183, -0.0016],\n",
      "        [ 0.0216,  0.0308, -0.0040,  ..., -0.0225,  0.0249, -0.0200]],\n",
      "       requires_grad=True)\n",
      "Parameter containing:\n",
      "tensor([-1.4885e-02,  1.2855e-02,  1.7415e-03, -1.8525e-02,  3.4115e-02,\n",
      "        -3.2811e-02,  2.6524e-02, -2.4521e-02,  9.4038e-03, -3.5759e-05,\n",
      "        -1.0514e-02, -3.0987e-02,  3.2864e-02, -2.1023e-02, -1.3883e-02,\n",
      "         3.2103e-02,  2.5841e-02,  9.4612e-03, -1.8223e-03,  1.1770e-02,\n",
      "         5.4547e-03, -4.2944e-03,  1.5253e-02, -8.9539e-03, -2.0949e-02,\n",
      "         2.0048e-02, -1.8977e-02, -1.5125e-02,  1.6779e-02,  2.7045e-02,\n",
      "        -3.1176e-02, -3.5527e-03,  2.8040e-02,  1.6207e-02, -1.8939e-02,\n",
      "         2.9727e-02,  5.3464e-03,  8.7469e-04,  2.5548e-02,  1.7548e-04,\n",
      "        -3.3161e-02, -1.7449e-02, -2.9243e-02,  2.5646e-02,  1.8168e-02,\n",
      "        -2.1448e-02, -1.8990e-02, -3.0973e-02,  9.2707e-03, -2.0382e-02,\n",
      "        -3.3475e-02, -1.8578e-02,  3.1839e-02, -3.2654e-02, -3.1023e-02,\n",
      "        -2.7068e-02, -6.9033e-03,  1.2963e-02, -4.0426e-03, -2.1432e-02,\n",
      "        -2.2505e-02,  2.7044e-02,  1.9216e-03,  1.3523e-02, -1.0437e-02,\n",
      "         2.5428e-02,  1.7031e-03, -1.5183e-02, -5.8706e-03,  9.2601e-03,\n",
      "         1.8094e-02, -1.9602e-02,  2.0332e-02, -1.1885e-02, -2.5103e-03,\n",
      "        -1.2230e-02,  1.8264e-02,  1.2877e-02, -3.3523e-03, -3.0222e-02,\n",
      "         2.7493e-02, -3.1852e-02, -1.9698e-02,  2.8514e-02, -2.4458e-02,\n",
      "        -8.3065e-03, -1.0207e-02, -1.5804e-02,  3.2963e-02,  6.7950e-03,\n",
      "        -1.7121e-02, -7.9726e-03, -7.3076e-03,  1.6936e-02, -1.5743e-02,\n",
      "         2.1305e-02,  1.9966e-03, -3.3124e-02,  9.3635e-04, -2.4770e-02,\n",
      "        -1.9562e-02,  2.0052e-02,  3.4876e-03,  1.4328e-02,  1.9068e-02,\n",
      "         1.7277e-02, -3.0078e-02,  2.9538e-02, -2.9471e-02, -3.8714e-03,\n",
      "        -1.1101e-02, -1.5986e-03, -6.6592e-04,  1.2906e-02, -1.2148e-03,\n",
      "        -2.5844e-02, -1.2363e-02, -3.4830e-03,  2.6499e-02, -1.3299e-02,\n",
      "        -9.7447e-03, -9.3537e-03,  1.9195e-02, -3.0390e-02,  1.2798e-02,\n",
      "         1.0478e-02, -3.1846e-03, -2.0275e-02, -2.1205e-02, -2.0560e-02,\n",
      "        -1.7351e-03, -3.4487e-02,  3.4315e-03, -2.9969e-02,  3.4109e-03,\n",
      "         2.6719e-02, -1.0700e-02,  2.0436e-02, -2.2191e-02, -3.1697e-02,\n",
      "         1.8155e-02,  5.1870e-04,  9.2267e-03, -2.5668e-02, -2.4540e-02,\n",
      "        -3.5328e-02, -2.7596e-02, -5.2719e-03, -2.8819e-02, -2.9821e-02,\n",
      "        -3.1421e-02,  2.1094e-02,  3.2444e-02, -3.2357e-02,  6.4344e-03,\n",
      "         3.0585e-02, -3.0977e-02,  9.5467e-03, -3.1641e-04,  2.3963e-03,\n",
      "         3.1996e-02, -3.2896e-02, -6.6389e-03, -3.2864e-02,  2.8100e-02,\n",
      "         1.1351e-02,  4.6449e-03,  5.8015e-03, -1.0252e-02,  3.4612e-02,\n",
      "        -2.6338e-02,  2.2640e-02,  3.4802e-02,  5.4510e-03, -5.2234e-03,\n",
      "         1.8386e-02, -2.4294e-02,  2.1366e-02,  6.4958e-03,  1.0300e-02,\n",
      "         2.5789e-02, -9.3015e-03, -1.6216e-02, -2.5126e-02,  1.2050e-02,\n",
      "         2.5275e-02, -1.6179e-02,  3.4388e-02,  9.1902e-04,  2.8795e-02,\n",
      "         8.0816e-04, -1.9989e-04,  3.1365e-03,  1.5515e-02,  1.0180e-02,\n",
      "         2.7463e-02,  1.3804e-02, -2.4747e-02, -4.9295e-03, -1.7358e-02,\n",
      "        -2.0733e-02,  2.0560e-02,  3.1764e-02,  9.3581e-04, -5.3241e-03,\n",
      "        -2.2990e-02,  3.4843e-02,  2.7721e-02,  2.6317e-02,  6.7182e-03,\n",
      "         9.1171e-03,  3.5389e-02, -5.7785e-03,  2.7698e-02,  1.7125e-02,\n",
      "        -3.4301e-02,  4.9200e-03, -1.3276e-02, -6.3396e-03, -6.8913e-03,\n",
      "        -1.1031e-03, -9.3243e-03, -1.9946e-02,  4.5742e-03,  2.0007e-02,\n",
      "        -1.0981e-02, -2.4353e-02,  1.9834e-02, -2.7604e-02,  1.9190e-02,\n",
      "        -1.3152e-02, -3.2455e-02, -3.2497e-02, -3.3219e-02, -3.0277e-02,\n",
      "        -1.0771e-02, -1.5176e-02,  2.6061e-02, -1.4133e-02,  2.3462e-02,\n",
      "         2.8901e-02,  2.0958e-02,  3.5664e-02, -1.4393e-02,  1.3731e-02,\n",
      "         2.2853e-02, -3.4693e-02, -1.8517e-02, -2.4630e-02,  1.1774e-02,\n",
      "        -8.7543e-03,  3.9096e-04, -1.0588e-02, -3.0841e-02,  2.1146e-02,\n",
      "        -4.0290e-03], requires_grad=True)\n"
     ]
    }
   ],
   "source": [
    "print(model.hidden1.weight)\n",
    "print(model.hidden1.bias)"
   ]
  },
  {
   "cell_type": "markdown",
   "metadata": {},
   "source": [
    "要自定义初始化过程，我们需要原地修改这些张量。这些实际上是 autograd *变量*，因此我们需要使用 `model.fc1.weight.data` 获取实际张量。获得张量后，我们可以用 0（对于偏差）或随机正常值填充这些张量。"
   ]
  },
  {
   "cell_type": "code",
   "execution_count": 17,
   "metadata": {},
   "outputs": [
    {
     "data": {
      "text/plain": [
       "tensor([0., 0., 0., 0., 0., 0., 0., 0., 0., 0., 0., 0., 0., 0., 0., 0., 0., 0., 0., 0., 0., 0., 0., 0.,\n",
       "        0., 0., 0., 0., 0., 0., 0., 0., 0., 0., 0., 0., 0., 0., 0., 0., 0., 0., 0., 0., 0., 0., 0., 0.,\n",
       "        0., 0., 0., 0., 0., 0., 0., 0., 0., 0., 0., 0., 0., 0., 0., 0., 0., 0., 0., 0., 0., 0., 0., 0.,\n",
       "        0., 0., 0., 0., 0., 0., 0., 0., 0., 0., 0., 0., 0., 0., 0., 0., 0., 0., 0., 0., 0., 0., 0., 0.,\n",
       "        0., 0., 0., 0., 0., 0., 0., 0., 0., 0., 0., 0., 0., 0., 0., 0., 0., 0., 0., 0., 0., 0., 0., 0.,\n",
       "        0., 0., 0., 0., 0., 0., 0., 0., 0., 0., 0., 0., 0., 0., 0., 0., 0., 0., 0., 0., 0., 0., 0., 0.,\n",
       "        0., 0., 0., 0., 0., 0., 0., 0., 0., 0., 0., 0., 0., 0., 0., 0., 0., 0., 0., 0., 0., 0., 0., 0.,\n",
       "        0., 0., 0., 0., 0., 0., 0., 0., 0., 0., 0., 0., 0., 0., 0., 0., 0., 0., 0., 0., 0., 0., 0., 0.,\n",
       "        0., 0., 0., 0., 0., 0., 0., 0., 0., 0., 0., 0., 0., 0., 0., 0., 0., 0., 0., 0., 0., 0., 0., 0.,\n",
       "        0., 0., 0., 0., 0., 0., 0., 0., 0., 0., 0., 0., 0., 0., 0., 0., 0., 0., 0., 0., 0., 0., 0., 0.,\n",
       "        0., 0., 0., 0., 0., 0., 0., 0., 0., 0., 0., 0., 0., 0., 0., 0.])"
      ]
     },
     "execution_count": 17,
     "metadata": {},
     "output_type": "execute_result"
    }
   ],
   "source": [
    "# Set biases to all zeros\n",
    "model.hidden1.bias.data.fill_(0)"
   ]
  },
  {
   "cell_type": "code",
   "execution_count": 18,
   "metadata": {},
   "outputs": [
    {
     "data": {
      "text/plain": [
       "tensor([[ 0.0017,  0.0020,  0.0003,  ..., -0.0185,  0.0070, -0.0175],\n",
       "        [-0.0201,  0.0072,  0.0138,  ..., -0.0024, -0.0102, -0.0212],\n",
       "        [-0.0077, -0.0109,  0.0030,  ..., -0.0018, -0.0151, -0.0049],\n",
       "        ...,\n",
       "        [ 0.0039, -0.0107, -0.0061,  ..., -0.0078, -0.0096, -0.0084],\n",
       "        [ 0.0065,  0.0005,  0.0095,  ..., -0.0043,  0.0173,  0.0161],\n",
       "        [-0.0119,  0.0172,  0.0025,  ...,  0.0066, -0.0087,  0.0047]])"
      ]
     },
     "execution_count": 18,
     "metadata": {},
     "output_type": "execute_result"
    }
   ],
   "source": [
    "# sample from random normal with standard dev = 0.01\n",
    "model.hidden1.weight.data.normal_(std=0.01)"
   ]
  },
  {
   "cell_type": "markdown",
   "metadata": {},
   "source": [
    "### 前向传递\n",
    "\n",
    "我们已经创建好网络，看看传入图像后会发生什么。"
   ]
  },
  {
   "cell_type": "code",
   "execution_count": 19,
   "metadata": {},
   "outputs": [
    {
     "data": {
      "image/png": "[encoded data removed]",
      "text/plain": [
       "<Figure size 600x900 with 2 Axes>"
      ]
     },
     "metadata": {
      "image/png": {
       "height": 327,
       "width": 589
      }
     },
     "output_type": "display_data"
    }
   ],
   "source": [
    "# Grab some data \n",
    "dataiter = iter(trainloader)\n",
    "images, labels = next(dataiter)\n",
    "\n",
    "# Resize images into a 1D vector, new shape is (batch size, color channels, image pixels) \n",
    "images.resize_(64, 1, 784)\n",
    "# or images.resize_(images.shape[0], 1, 784) to automatically get batch size\n",
    "\n",
    "# Forward pass through the network\n",
    "img_idx = 0\n",
    "ps = model.forward(images[img_idx,:])\n",
    "\n",
    "img = images[img_idx]\n",
    "helper.view_classify(img.view(1, 28, 28), ps)"
   ]
  },
  {
   "cell_type": "markdown",
   "metadata": {},
   "source": [
    "是的，我们的网络还不能判断出这个数字。这是因为我们尚未训练它，所有权重都是随机的！\n",
    "\n",
    "### 使用 `nn.Sequential`\n",
    "\n",
    "PyTorch 提供了一种方便的方法来构建这类网络（其中张量按顺序执行各种运算）：`nn.Sequential` ([文档](https://pytorch.org/docs/master/nn.html#torch.nn.Sequential))。使用它来构建等效网络："
   ]
  },
  {
   "cell_type": "code",
   "execution_count": 20,
   "metadata": {},
   "outputs": [
    {
     "name": "stdout",
     "output_type": "stream",
     "text": [
      "Sequential(\n",
      "  (0): Linear(in_features=784, out_features=128, bias=True)\n",
      "  (1): ReLU()\n",
      "  (2): Linear(in_features=128, out_features=64, bias=True)\n",
      "  (3): ReLU()\n",
      "  (4): Linear(in_features=64, out_features=10, bias=True)\n",
      "  (5): Softmax(dim=1)\n",
      ")\n"
     ]
    },
    {
     "data": {
      "image/png": "[encoded data removed]",
      "text/plain": [
       "<Figure size 600x900 with 2 Axes>"
      ]
     },
     "metadata": {
      "image/png": {
       "height": 327,
       "width": 589
      }
     },
     "output_type": "display_data"
    }
   ],
   "source": [
    "# Hyperparameters for our network\n",
    "input_size = 784\n",
    "hidden_sizes = [128, 64]\n",
    "output_size = 10\n",
    "\n",
    "# Build a feed-forward network\n",
    "model = nn.Sequential(nn.Linear(input_size, hidden_sizes[0]),\n",
    "                      nn.ReLU(),\n",
    "                      nn.Linear(hidden_sizes[0], hidden_sizes[1]),\n",
    "                      nn.ReLU(),\n",
    "                      nn.Linear(hidden_sizes[1], output_size),\n",
    "                      nn.Softmax(dim=1))\n",
    "print(model)\n",
    "\n",
    "# Forward pass through the network and display output\n",
    "images, labels = next(iter(trainloader))\n",
    "images.resize_(images.shape[0], 1, 784)\n",
    "ps = model.forward(images[0,:])\n",
    "helper.view_classify(images[0].view(1, 28, 28), ps)"
   ]
  },
  {
   "cell_type": "markdown",
   "metadata": {},
   "source": [
    "模型和之前一样：输入层有 784 个单元，然后是有 128 个单元的隐藏层和一个 ReLU 激活函数，然后是有 64 个单元的隐藏层和另一个 ReLU 激活函数，然后是有 10 个单元的输出层和 softmax 输出。\n",
    "\n",
    "通过传入相应的索引即可执行运算。例如，如果你想获得第一个线性运算并查看权重，可以使用 `model[0]`。"
   ]
  },
  {
   "cell_type": "code",
   "execution_count": 21,
   "metadata": {},
   "outputs": [
    {
     "name": "stdout",
     "output_type": "stream",
     "text": [
      "Linear(in_features=784, out_features=128, bias=True)\n"
     ]
    },
    {
     "data": {
      "text/plain": [
       "Parameter containing:\n",
       "tensor([[-0.0299,  0.0210,  0.0136,  ...,  0.0024, -0.0059, -0.0349],\n",
       "        [ 0.0225,  0.0190,  0.0332,  ..., -0.0046, -0.0280,  0.0183],\n",
       "        [-0.0074,  0.0130, -0.0023,  ...,  0.0317,  0.0350, -0.0229],\n",
       "        ...,\n",
       "        [-0.0188, -0.0335, -0.0323,  ..., -0.0278,  0.0272,  0.0339],\n",
       "        [-0.0316, -0.0148, -0.0213,  ...,  0.0178,  0.0103,  0.0184],\n",
       "        [ 0.0157,  0.0164, -0.0130,  ...,  0.0137, -0.0067,  0.0142]],\n",
       "       requires_grad=True)"
      ]
     },
     "execution_count": 21,
     "metadata": {},
     "output_type": "execute_result"
    }
   ],
   "source": [
    "print(model[0])\n",
    "model[0].weight"
   ]
  },
  {
   "cell_type": "markdown",
   "metadata": {},
   "source": [
    "还可以传入 `OrderedDict` 以命名单个层级和运算，而不是使用递增的整数。注意，因为字典键必须是唯一的，所以_每个运算都必须具有不同的名称_。"
   ]
  },
  {
   "cell_type": "code",
   "execution_count": 22,
   "metadata": {},
   "outputs": [
    {
     "data": {
      "text/plain": [
       "Sequential(\n",
       "  (fc1): Linear(in_features=784, out_features=128, bias=True)\n",
       "  (relu1): ReLU()\n",
       "  (fc2): Linear(in_features=128, out_features=64, bias=True)\n",
       "  (relu2): ReLU()\n",
       "  (output): Linear(in_features=64, out_features=10, bias=True)\n",
       "  (softmax): Softmax(dim=1)\n",
       ")"
      ]
     },
     "execution_count": 22,
     "metadata": {},
     "output_type": "execute_result"
    }
   ],
   "source": [
    "from collections import OrderedDict\n",
    "model = nn.Sequential(OrderedDict([\n",
    "                      ('fc1', nn.Linear(input_size, hidden_sizes[0])),\n",
    "                      ('relu1', nn.ReLU()),\n",
    "                      ('fc2', nn.Linear(hidden_sizes[0], hidden_sizes[1])),\n",
    "                      ('relu2', nn.ReLU()),\n",
    "                      ('output', nn.Linear(hidden_sizes[1], output_size)),\n",
    "                      ('softmax', nn.Softmax(dim=1))]))\n",
    "model"
   ]
  },
  {
   "cell_type": "markdown",
   "metadata": {},
   "source": [
    "现在你可以通过整数或名称访问层级了"
   ]
  },
  {
   "cell_type": "code",
   "execution_count": 23,
   "metadata": {},
   "outputs": [
    {
     "name": "stdout",
     "output_type": "stream",
     "text": [
      "Linear(in_features=784, out_features=128, bias=True)\n",
      "Linear(in_features=784, out_features=128, bias=True)\n"
     ]
    }
   ],
   "source": [
    "print(model[0])\n",
    "print(model.fc1)"
   ]
  },
  {
   "cell_type": "markdown",
   "metadata": {},
   "source": [
    "在下个 notebook 中，我们将学习如何训练神经网络，以便准确预测 MNIST 图像中出现的数字。"
   ]
  }
 ],
 "metadata": {
  "kernelspec": {
   "display_name": "Python 3 (ipykernel)",
   "language": "python",
   "name": "python3"
  },
  "language_info": {
   "codemirror_mode": {
    "name": "ipython",
    "version": 3
   },
   "file_extension": ".py",
   "mimetype": "text/x-python",
   "name": "python",
   "nbconvert_exporter": "python",
   "pygments_lexer": "ipython3",
   "version": "3.10.11"
  }
 },
 "nbformat": 4,
 "nbformat_minor": 2
}
