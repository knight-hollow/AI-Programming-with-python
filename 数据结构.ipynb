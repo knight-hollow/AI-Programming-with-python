{
 "cells": [
  {
   "cell_type": "markdown",
   "id": "f98babb4",
   "metadata": {},
   "source": [
    "# Python for AI programmers\n",
    "## Python基础\n",
    "### 数据结构"
   ]
  },
  {
   "cell_type": "markdown",
   "id": "c8e99f88",
   "metadata": {},
   "source": [
    "#### 列表list\n",
    "处理一组有序项目的数据结构  \n",
    "列表名 = [元素1，元素2，···]  \n",
    "所有元素放在[]内，元素之间用逗号隔开，元素之间的数据类型可以不同  "
   ]
  },
  {
   "cell_type": "code",
   "execution_count": 1,
   "id": "d33e5884",
   "metadata": {},
   "outputs": [
    {
     "name": "stdout",
     "output_type": "stream",
     "text": [
      "[1, 2, 'a', 4] <class 'list'>\n",
      "[2, 'a']\n",
      "1\n",
      "2\n",
      "a\n",
      "4\n"
     ]
    }
   ],
   "source": [
    "ss=[1,2,'a',4]\n",
    "print(ss,type(ss))\n",
    "#列表可以进行切片操作\n",
    "print(ss[1:3])\n",
    "#列表是可迭代对象，可以用for循环遍历取值\n",
    "for i in ss:\n",
    "    print(i)"
   ]
  },
  {
   "cell_type": "markdown",
   "id": "8ab41d48",
   "metadata": {},
   "source": [
    "列表的常见操作"
   ]
  },
  {
   "cell_type": "code",
   "execution_count": 2,
   "id": "8651e2e5",
   "metadata": {},
   "outputs": [
    {
     "name": "stdout",
     "output_type": "stream",
     "text": [
      "['one', 'two', 'three', 'four']\n",
      "['one', 'two', 'three', 'four', 'f', 'i', 'v', 'e']\n",
      "['one', 'two', 'three', 'four', 'f', 'i', 'v', 'e', 'six']\n",
      "['one', '2', 'two', 'three', 'four', 'f', 'i', 'v', 'e', 'six']\n"
     ]
    }
   ],
   "source": [
    "# append() 整体添加\n",
    "# extend() 分散添加，将另一类型的元素逐一添加\n",
    "# insert()\n",
    "ss=['one', 'two', 'three']\n",
    "ss.append(\"four\")\n",
    "print(ss)\n",
    "ss.extend('five')\n",
    "print(ss)\n",
    "ss.insert(8,'six')#在指定位置插入元素\n",
    "print(ss)\n",
    "ss.insert(1,'2')#若指定位置有元素，原有元素就会后移\n",
    "print(ss)"
   ]
  },
  {
   "cell_type": "code",
   "execution_count": null,
   "id": "8fb49a65",
   "metadata": {},
   "outputs": [
    {
     "name": "stdout",
     "output_type": "stream",
     "text": [
      "[1, 'a', 3]\n",
      "你的名称b已存在\n",
      "你的名称c已存在\n",
      "您的名称gg创建成功\n",
      "['a', 'b', 'c', 'd', 'e', 'f', 'gg']\n"
     ]
    }
   ],
   "source": [
    "#修改元素：直接通过下标进行修改\n",
    "a = [1, 2, 3]\n",
    "a[1]='a'\n",
    "print(a)\n",
    "\n",
    "#查找元素\n",
    "#in ：检测指定元素是否包含在列表中，如果在则返回True，否则返回False\n",
    "#not in：检测指定元素是否包含在列表中，如果在则返回False，否则返回True\n",
    "name_list=['a','b','c','d','e','f']\n",
    "while True:\n",
    "    name = input('请输入你的名称')\n",
    "    if name in name_list:\n",
    "        print(f'你的名称{name}已存在')\n",
    "    else:\n",
    "        print(f'您的名称{name}创建成功')\n",
    "        name_list.append(name)\n",
    "        print(name_list)\n",
    "        break\n",
    "\n",
    "#index:返回下标\n",
    "#count：统计指定数据出现的次数"
   ]
  },
  {
   "cell_type": "code",
   "execution_count": 4,
   "id": "2c0749d5",
   "metadata": {},
   "outputs": [
    {
     "name": "stdout",
     "output_type": "stream",
     "text": [
      "['a', 'b', 'd']\n",
      "['a', 'c']\n",
      "['a', 'b', 'd', 'a']\n",
      "['b', 'd', 'a']\n"
     ]
    }
   ],
   "source": [
    "#删除元素\n",
    "#del:根据下标删除\n",
    "ss = ['a','b','c','d']\n",
    "del ss[2]\n",
    "print(ss)\n",
    "\n",
    "#pop：删除指定下标的元素，python3版本默认删除最后一个元素\n",
    "ss = ['a','b','c','d']\n",
    "ss.pop()\n",
    "ss.pop(1)\n",
    "print(ss)\n",
    "\n",
    "#remove: 根据元素的值进行删除\n",
    "ss = ['a','b','c','d','a']\n",
    "ss.remove('c')\n",
    "print(ss)\n",
    "ss.remove('a')#默认删除第一个找到的元素\n",
    "print(ss)"
   ]
  },
  {
   "cell_type": "markdown",
   "id": "aaa6d6dc",
   "metadata": {},
   "source": [
    "可变性（Mutability） 指的是一个对象在创建之后能否被修改。\n",
    "- 如果对象可以被修改，那么它就是可变对象（mutable）：list、dict、set\n",
    "- 如果对象一旦创建就不能再修改，那么它就是不可变对象（immutable）：str、int、tuple"
   ]
  },
  {
   "cell_type": "code",
   "execution_count": 5,
   "id": "12c52db0",
   "metadata": {},
   "outputs": [],
   "source": [
    "lst = [3, 1, 4, 2]\n",
    "lst.sort()          # [1, 2, 3, 4] → 就地升序\n",
    "lst.sort(reverse=True) # [4, 3, 2, 1] → 降序\n",
    "lst.reverse()       # 反转列表顺序"
   ]
  },
  {
   "cell_type": "markdown",
   "id": "fef8e24b",
   "metadata": {},
   "source": [
    "#### 元组(Tuple)\n",
    "元组格式 元组名=(元素1，元素2，···).  \n",
    "所有元素包含在小括号内，元素与元素之间用逗号隔开，不同元素可以是不同数据类型  \n",
    "\n",
    "元组与列表的区别.  \n",
    "元组只有一个元素，末尾必须加逗号.  \n",
    "元组只支持查询操作，不支持增删操作.  "
   ]
  },
  {
   "cell_type": "code",
   "execution_count": 6,
   "id": "f6c4ba2d",
   "metadata": {},
   "outputs": [
    {
     "name": "stdout",
     "output_type": "stream",
     "text": [
      "<class 'tuple'>\n",
      "<class 'tuple'>\n",
      "<class 'tuple'>\n",
      "2\n"
     ]
    },
    {
     "ename": "TypeError",
     "evalue": "'tuple' object does not support item assignment",
     "output_type": "error",
     "traceback": [
      "\u001b[0;31m---------------------------------------------------------------------------\u001b[0m",
      "\u001b[0;31mTypeError\u001b[0m                                 Traceback (most recent call last)",
      "\u001b[0;32m/var/folders/3h/vb9khfs12bjf5dykzt41gqp80000gn/T/ipykernel_32837/3746901650.py\u001b[0m in \u001b[0;36m<cell line: 0>\u001b[0;34m()\u001b[0m\n\u001b[1;32m      8\u001b[0m \u001b[0mtua\u001b[0m \u001b[0;34m=\u001b[0m \u001b[0;34m(\u001b[0m\u001b[0;36m1\u001b[0m\u001b[0;34m,\u001b[0m\u001b[0;36m2\u001b[0m\u001b[0;34m,\u001b[0m\u001b[0;36m3\u001b[0m\u001b[0;34m)\u001b[0m\u001b[0;34m\u001b[0m\u001b[0;34m\u001b[0m\u001b[0m\n\u001b[1;32m      9\u001b[0m \u001b[0mprint\u001b[0m\u001b[0;34m(\u001b[0m\u001b[0mtua\u001b[0m\u001b[0;34m[\u001b[0m\u001b[0;36m1\u001b[0m\u001b[0;34m]\u001b[0m\u001b[0;34m)\u001b[0m\u001b[0;34m\u001b[0m\u001b[0;34m\u001b[0m\u001b[0m\n\u001b[0;32m---> 10\u001b[0;31m \u001b[0mtua\u001b[0m\u001b[0;34m[\u001b[0m\u001b[0;36m2\u001b[0m\u001b[0;34m]\u001b[0m \u001b[0;34m=\u001b[0m \u001b[0;36m1\u001b[0m\u001b[0;34m\u001b[0m\u001b[0;34m\u001b[0m\u001b[0m\n\u001b[0m\u001b[1;32m     11\u001b[0m \u001b[0mprint\u001b[0m\u001b[0;34m(\u001b[0m\u001b[0mtua\u001b[0m\u001b[0;34m)\u001b[0m\u001b[0;34m\u001b[0m\u001b[0;34m\u001b[0m\u001b[0m\n",
      "\u001b[0;31mTypeError\u001b[0m: 'tuple' object does not support item assignment"
     ]
    }
   ],
   "source": [
    "tua = (1,2,3)\n",
    "print(type(tua))\n",
    "tua = ()\n",
    "print(type(tua))\n",
    "tub = (1,)#只有一个元素时，末尾必须加上逗号否则返回唯一的值的数据类型\n",
    "print(type(tub))\n",
    "\n",
    "tua = (1,2,3)\n",
    "print(tua[1])\n",
    "tua[2] = 1\n",
    "print(tua)"
   ]
  },
  {
   "cell_type": "code",
   "execution_count": 7,
   "id": "7dd3b60b",
   "metadata": {},
   "outputs": [
    {
     "name": "stdout",
     "output_type": "stream",
     "text": [
      "1\n",
      "1\n",
      "3\n",
      "('haha', 20)\n",
      "haha的年龄是：20\n"
     ]
    }
   ],
   "source": [
    "#count(),index(),len()跟列表用法相同\n",
    "tua = (1,2,3)\n",
    "print(tua.count(1))\n",
    "print(tua.index(2))\n",
    "print(len(tua))\n",
    "\n",
    "#应用场景\n",
    "#函数的参数和返回值\n",
    "#格式化输出后面的（）本质上就是一个元组\n",
    "name = 'haha'\n",
    "age = 20\n",
    "info = (name, age)\n",
    "print(info)\n",
    "print('%s的年龄是：%d' % info)\n",
    "#数据不能被修改时，用来保护数据"
   ]
  },
  {
   "cell_type": "markdown",
   "id": "b25d0972",
   "metadata": {},
   "source": [
    "#### 集合（Set）\n",
    "集合   \n",
    "格式 集合名 = {元素1，元素2，···}   "
   ]
  },
  {
   "cell_type": "code",
   "execution_count": 9,
   "id": "b9697a49",
   "metadata": {},
   "outputs": [
    {
     "name": "stdout",
     "output_type": "stream",
     "text": [
      "{'b', 'a', 'c', 'e', 'g', 'h', 'f', 'd'}\n",
      "{1, 2, 3, 4, 5, 6, 7, 8, 9}\n",
      "-8079848234965528766\n",
      "-632470350318405088\n",
      "3693432752053299333\n",
      "1\n",
      "2\n",
      "3\n",
      "{1, 2, 3, 4, 5, 6}\n",
      "原集合： {1, 2, 3, 4}\n",
      "现集合： {1, 2, 3, 4, 5, (6, 7)}\n",
      "原集合： {1, 2, 3, 4}\n",
      "现集合： {1, 2, 3, 4, 5, 6, 7}\n",
      "{1, 3, 4, 5}\n",
      "{2, 3, 4, 5}\n",
      "{'a', 'd', 'c'}\n",
      "{1, 3}\n",
      "{3, 4}\n",
      "set()\n",
      "{1, 2, 3, 4, 5, 6}\n",
      "{1, 2, 3, 4, 5, 6, 7, 8}\n"
     ]
    }
   ],
   "source": [
    "#集合具有无序性\n",
    "s1={'a','b','c','d','e','f','g','h'}\n",
    "print(s1)#每次运行结果都不一样\n",
    "s2={1,2,3,4,5,6,7,8,9}\n",
    "print(s2)#数字运行结果都一样\n",
    "#集合无序的实现方式涉及hash表\n",
    "print(hash('a'))\n",
    "print(hash('b'))\n",
    "print(hash('c'))\n",
    "#每次运行的结果都不同，hash值不同，那么在hash表中的位置也不同，这就是实现了集合的无序性\n",
    "print(hash(1))\n",
    "print(hash(2))\n",
    "print(hash(3))\n",
    "#python中int整型的hash值就是它本身，在hash表中的位置不会变换，所以顺序不变\n",
    "\n",
    "#利用无序性，不能修改集合中的值\n",
    "\n",
    "#集合具有唯一性，可以自动去重\n",
    "s1={1,2,3,4,2,4,5,6}\n",
    "print(s1)\n",
    "\n",
    "#集合的添加\n",
    "#add 添加的是一个整体\n",
    "s1={1,2,3,4}\n",
    "print(\"原集合：\",s1)\n",
    "s1.add(5)\n",
    "s1.add(1)\n",
    "#s1.add(2,3)#一次只能添加一个元素,报错\n",
    "s1.add((6,7))\n",
    "print(\"现集合：\",s1)\n",
    "#集合的唯一性决定了如果需要添加的元素在原集合中已经存在，就不进行任何操作\n",
    "\n",
    "#update 把传入的元素拆分，一个个放进集合中\n",
    "s2 = {1,2,3,4}\n",
    "print(\"原集合：\",s2)\n",
    "s2.update((5,6,7))\n",
    "print(\"现集合：\",s2)\n",
    "\n",
    "#删除元素\n",
    "#remove:选择删除的元素，若集合中有，删除否则报错\n",
    "s1={1,2,3,4,5}\n",
    "s1.remove(2)\n",
    "print(s1)\n",
    "#s1.remove(6)#报错\n",
    "#print(s1)\n",
    "\n",
    "#pop对集合进行排列（字符无序排列），然后删除左边的第一个元素\n",
    "s1 = {1,2,3,4,5}\n",
    "s1.pop()\n",
    "print(s1)\n",
    "s2 = {'a','b','c','d'}\n",
    "s2.pop()#默认删除根据哈希表排序后的第一个元素\n",
    "print(s2)\n",
    "\n",
    "#discard：需要选择要删除的元素，有就会删除，没有不会发生任何改变\n",
    "s1 = {1, 2, 3}\n",
    "s1.discard(2)\n",
    "s1.discard(4)\n",
    "print(s1)\n",
    "\n",
    "#交集和并集\n",
    "#交集&，共有的部分\n",
    "a={1,2,3,4}\n",
    "b={3,4,5,6}\n",
    "c={5,6,7,8}\n",
    "print(a&b)\n",
    "print(a&c)\n",
    "\n",
    "#并集｜\n",
    "print(a|b)\n",
    "print(a|c)"
   ]
  },
  {
   "cell_type": "markdown",
   "id": "ed39f44a",
   "metadata": {},
   "source": [
    "#### 字典（Dictionaries）\n",
    "格式：字典名 = {键1:值1，键2:值2，···}   \n",
    "键值对形式保存，键和值之间用冒号隔开，每个键值对之间用逗号隔开"
   ]
  },
  {
   "cell_type": "code",
   "execution_count": 10,
   "id": "c9a5eb9e",
   "metadata": {},
   "outputs": [
    {
     "name": "stdout",
     "output_type": "stream",
     "text": [
      "<class 'dict'>\n",
      "{'name': 'dada'}\n",
      "{'name': 'haha', 'age': 'haha'}\n",
      "haha\n",
      "haha\n",
      "None\n",
      "不存在\n",
      "{'name': 'haha', 'age': 20}\n",
      "{'name': 'haha', 'age': 20, 'sex': 'male'}\n",
      "{'name': 'haha'}\n",
      "{}\n",
      "{'name': 'haha', 'sex': 'male'}\n",
      "{'name': 'haha'}\n",
      "3\n",
      "6\n",
      "name\n",
      "age\n",
      "sex\n",
      "dict_values(['haha', 18, 'male'])\n",
      "haha\n",
      "18\n",
      "male\n",
      "dict_items([('name', 'haha'), ('age', 18), ('sex', 'male')])\n",
      "('name', 'haha')\n",
      "('age', 18)\n",
      "('sex', 'male')\n"
     ]
    }
   ],
   "source": [
    "#字典中的键具备唯一性，但是值可以重复\n",
    "dic = {'name':'haha','age':18}\n",
    "print(type(dic))\n",
    "dic2 = {'name':'haha','name':'dada'}#不会报错，键名重复前面的值会被后面的值覆盖\n",
    "print(dic2)\n",
    "dic3 = {'name':'haha','age':'haha'}\n",
    "print(dic3)\n",
    "\n",
    "#查询元素\n",
    "#变量名[键名]\n",
    "dic = {'name':'haha','age':18}\n",
    "print(dic['name'])\n",
    "#print(dic['sex'])#报错，键名不存在\n",
    "#变量名.get()\n",
    "print(dic.get('name'))\n",
    "print(dic.get('sex'))#键名不存在返回none\n",
    "print(dic.get('sex','不存在'))\n",
    "\n",
    "#修改元素\n",
    "#变量名[键名] = 值\n",
    "#键名存在就修改，不存在就新增键\n",
    "dic = {'name':'haha','age':18}\n",
    "dic['age'] = 20\n",
    "print(dic)\n",
    "dic['sex'] = 'male'\n",
    "print(dic)\n",
    "\n",
    "#删除元素\n",
    "#del\n",
    "#删除整个字典： del 字典名\n",
    "#删除指定键值对，键名不存在就报错\n",
    "dic = {'name':'haha','age':18}\n",
    "del dic['age']\n",
    "print(dic)\n",
    "del dic\n",
    "# print(dic)#没有该字典，报错\n",
    "\n",
    "#clear():晴空整个字典里的东西，但保留这个字典\n",
    "dic = {'name':'haha','age':18}\n",
    "dic.clear()\n",
    "print(dic)\n",
    "\n",
    "#pop:删除指定键值对\n",
    "dic = {'name':'haha','age':18,'sex':'male'}\n",
    "dic.pop('age')\n",
    "print(dic)\n",
    "dic.popitem()#默认删除最后一个键值对\n",
    "print(dic)\n",
    "\n",
    "#len()求长度\n",
    "dic = {'name':'haha','age':18,'sex':'male'}\n",
    "print(len(dic))#返回键值对的个数\n",
    "st = 'length'\n",
    "print(len(st))\n",
    "\n",
    "#keys()返回字典里面包含的所有键名\n",
    "dic = {'name':'haha','age':18,'sex':'male'}\n",
    "# #for 循环取键名\n",
    "# print(dic.keys())\n",
    "for i in dic:\n",
    "    print(i)\n",
    "\n",
    "#values():返回字典里面包含的所有值\n",
    "dic = {'name':'haha','age':18,'sex':'male'}\n",
    "print(dic.values())\n",
    "for i in dic.values():\n",
    "    print(i)\n",
    "\n",
    "#items(): 返回字典里面包含的所有键值对，键值对以元组的形式\n",
    "dic = {'name':'haha','age':18,'sex':'male'}\n",
    "print(dic.items())\n",
    "for i in dic.items():\n",
    "    print(i)\n",
    "\n",
    "#使用键值对存储描述一个物体的相关信息"
   ]
  },
  {
   "cell_type": "code",
   "execution_count": 11,
   "id": "d944aef7",
   "metadata": {},
   "outputs": [
    {
     "name": "stdout",
     "output_type": "stream",
     "text": [
      "elements =  {'hydrogen': {'number': 1, 'weight': 1.00794, 'symbol': 'H'}, 'helium': {'number': 2, 'weight': 4.002602, 'symbol': 'He'}, 'oxygen': {'number': 8, 'weight': 15.999, 'symbol': 'O'}}\n"
     ]
    }
   ],
   "source": [
    "#复合数据结构\n",
    "elements = {\"hydrogen\": {\"number\": 1,\n",
    "                         \"weight\": 1.00794,\n",
    "                         \"symbol\": \"H\"},\n",
    "              \"helium\": {\"number\": 2,\n",
    "                         \"weight\": 4.002602,\n",
    "                         \"symbol\": \"He\"}}\n",
    "oxygen = {\"number\":8,\"weight\":15.999,\"symbol\":\"O\"}  # create a new oxygen dictionary \n",
    "elements[\"oxygen\"] = oxygen  # assign 'oxygen' as a key to the elements dictionary\n",
    "print('elements = ', elements)"
   ]
  }
 ],
 "metadata": {
  "kernelspec": {
   "display_name": "base",
   "language": "python",
   "name": "python3"
  },
  "language_info": {
   "codemirror_mode": {
    "name": "ipython",
    "version": 3
   },
   "file_extension": ".py",
   "mimetype": "text/x-python",
   "name": "python",
   "nbconvert_exporter": "python",
   "pygments_lexer": "ipython3",
   "version": "3.12.2"
  }
 },
 "nbformat": 4,
 "nbformat_minor": 5
}
